{
 "cells": [
  {
   "cell_type": "markdown",
   "metadata": {},
   "source": [
    "# Introduction à l'ANOVA et l'Analyse de sensibilité"
   ]
  },
  {
   "cell_type": "markdown",
   "metadata": {},
   "source": [
    "## Objectif\n",
    "Ce notebook vise à illustrer la mise en oeuvre de l'ANOVA et de l'Analyse de sensibilité avec OpenTURNS."
   ]
  },
  {
   "cell_type": "markdown",
   "metadata": {},
   "source": [
    "Il présente aussi les données d'un cas test de signature EM de corps sur lequel on peut tester différents métamodèles."
   ]
  },
  {
   "cell_type": "markdown",
   "metadata": {},
   "source": [
    "## Import modules et data"
   ]
  },
  {
   "cell_type": "code",
   "execution_count": 1,
   "metadata": {},
   "outputs": [],
   "source": [
    "import pandas as pd"
   ]
  },
  {
   "cell_type": "code",
   "execution_count": 2,
   "metadata": {},
   "outputs": [],
   "source": [
    "import numpy as np"
   ]
  },
  {
   "cell_type": "markdown",
   "metadata": {},
   "source": [
    "On commence par charger les données qui sont dans un fichier .csv avec comme séparateur un ;\n",
    "Elles sont déjà normalisées"
   ]
  },
  {
   "cell_type": "code",
   "execution_count": 13,
   "metadata": {},
   "outputs": [
    {
     "data": {
      "text/html": [
       "<div>\n",
       "<style scoped>\n",
       "    .dataframe tbody tr th:only-of-type {\n",
       "        vertical-align: middle;\n",
       "    }\n",
       "\n",
       "    .dataframe tbody tr th {\n",
       "        vertical-align: top;\n",
       "    }\n",
       "\n",
       "    .dataframe thead th {\n",
       "        text-align: right;\n",
       "    }\n",
       "</style>\n",
       "<table border=\"1\" class=\"dataframe\">\n",
       "  <thead>\n",
       "    <tr style=\"text-align: right;\">\n",
       "      <th></th>\n",
       "      <th>Logive</th>\n",
       "      <th>Rnez</th>\n",
       "      <th>Lfente</th>\n",
       "      <th>Pfente</th>\n",
       "      <th>Dengin</th>\n",
       "      <th>LBB</th>\n",
       "      <th>Pos</th>\n",
       "      <th>Fleche_BA</th>\n",
       "      <th>Fleche_BF</th>\n",
       "      <th>Corde</th>\n",
       "      <th>H</th>\n",
       "      <th>y</th>\n",
       "    </tr>\n",
       "  </thead>\n",
       "  <tbody>\n",
       "    <tr>\n",
       "      <th>count</th>\n",
       "      <td>1.110000e+02</td>\n",
       "      <td>1.110000e+02</td>\n",
       "      <td>1.110000e+02</td>\n",
       "      <td>1.110000e+02</td>\n",
       "      <td>1.110000e+02</td>\n",
       "      <td>1.110000e+02</td>\n",
       "      <td>1.110000e+02</td>\n",
       "      <td>1.110000e+02</td>\n",
       "      <td>1.110000e+02</td>\n",
       "      <td>1.110000e+02</td>\n",
       "      <td>1.110000e+02</td>\n",
       "      <td>1.110000e+02</td>\n",
       "    </tr>\n",
       "    <tr>\n",
       "      <th>mean</th>\n",
       "      <td>-4.724949e-15</td>\n",
       "      <td>2.265455e-16</td>\n",
       "      <td>-1.239249e-15</td>\n",
       "      <td>2.220446e-16</td>\n",
       "      <td>-2.146531e-14</td>\n",
       "      <td>-3.388681e-15</td>\n",
       "      <td>7.201447e-17</td>\n",
       "      <td>-3.101623e-15</td>\n",
       "      <td>-4.505905e-16</td>\n",
       "      <td>1.062213e-15</td>\n",
       "      <td>-1.147230e-15</td>\n",
       "      <td>2.560514e-16</td>\n",
       "    </tr>\n",
       "    <tr>\n",
       "      <th>std</th>\n",
       "      <td>1.004535e+00</td>\n",
       "      <td>1.004535e+00</td>\n",
       "      <td>1.004535e+00</td>\n",
       "      <td>1.004535e+00</td>\n",
       "      <td>1.004535e+00</td>\n",
       "      <td>1.004535e+00</td>\n",
       "      <td>1.004535e+00</td>\n",
       "      <td>1.004535e+00</td>\n",
       "      <td>1.004535e+00</td>\n",
       "      <td>1.004535e+00</td>\n",
       "      <td>1.004535e+00</td>\n",
       "      <td>1.469217e+01</td>\n",
       "    </tr>\n",
       "    <tr>\n",
       "      <th>min</th>\n",
       "      <td>-1.714657e+00</td>\n",
       "      <td>-1.705441e+00</td>\n",
       "      <td>-1.716122e+00</td>\n",
       "      <td>-1.730296e+00</td>\n",
       "      <td>-1.706343e+00</td>\n",
       "      <td>-1.736957e+00</td>\n",
       "      <td>-1.704795e+00</td>\n",
       "      <td>-1.738951e+00</td>\n",
       "      <td>-1.712961e+00</td>\n",
       "      <td>-1.727367e+00</td>\n",
       "      <td>-1.738934e+00</td>\n",
       "      <td>-3.151231e+01</td>\n",
       "    </tr>\n",
       "    <tr>\n",
       "      <th>25%</th>\n",
       "      <td>-8.550082e-01</td>\n",
       "      <td>-8.583008e-01</td>\n",
       "      <td>-8.504898e-01</td>\n",
       "      <td>-8.501074e-01</td>\n",
       "      <td>-8.649371e-01</td>\n",
       "      <td>-8.408544e-01</td>\n",
       "      <td>-8.636119e-01</td>\n",
       "      <td>-8.507163e-01</td>\n",
       "      <td>-8.545381e-01</td>\n",
       "      <td>-8.463670e-01</td>\n",
       "      <td>-8.459085e-01</td>\n",
       "      <td>-1.085429e+01</td>\n",
       "    </tr>\n",
       "    <tr>\n",
       "      <th>50%</th>\n",
       "      <td>-6.883662e-03</td>\n",
       "      <td>7.680181e-03</td>\n",
       "      <td>-7.551755e-04</td>\n",
       "      <td>-3.565477e-04</td>\n",
       "      <td>1.216698e-03</td>\n",
       "      <td>-5.886805e-04</td>\n",
       "      <td>1.997488e-03</td>\n",
       "      <td>-7.836764e-04</td>\n",
       "      <td>1.438697e-04</td>\n",
       "      <td>-4.647275e-04</td>\n",
       "      <td>2.579342e-03</td>\n",
       "      <td>2.812443e-01</td>\n",
       "    </tr>\n",
       "    <tr>\n",
       "      <th>75%</th>\n",
       "      <td>8.458755e-01</td>\n",
       "      <td>8.585331e-01</td>\n",
       "      <td>8.660440e-01</td>\n",
       "      <td>8.589173e-01</td>\n",
       "      <td>8.634133e-01</td>\n",
       "      <td>8.421384e-01</td>\n",
       "      <td>8.568748e-01</td>\n",
       "      <td>8.544164e-01</td>\n",
       "      <td>8.589795e-01</td>\n",
       "      <td>8.455404e-01</td>\n",
       "      <td>8.551692e-01</td>\n",
       "      <td>1.167499e+01</td>\n",
       "    </tr>\n",
       "    <tr>\n",
       "      <th>max</th>\n",
       "      <td>1.733036e+00</td>\n",
       "      <td>1.709811e+00</td>\n",
       "      <td>1.729117e+00</td>\n",
       "      <td>1.727264e+00</td>\n",
       "      <td>1.720725e+00</td>\n",
       "      <td>1.721999e+00</td>\n",
       "      <td>1.729364e+00</td>\n",
       "      <td>1.715654e+00</td>\n",
       "      <td>1.711483e+00</td>\n",
       "      <td>1.726368e+00</td>\n",
       "      <td>1.715182e+00</td>\n",
       "      <td>3.857436e+01</td>\n",
       "    </tr>\n",
       "  </tbody>\n",
       "</table>\n",
       "</div>"
      ],
      "text/plain": [
       "             Logive          Rnez        Lfente        Pfente        Dengin  \\\n",
       "count  1.110000e+02  1.110000e+02  1.110000e+02  1.110000e+02  1.110000e+02   \n",
       "mean  -4.724949e-15  2.265455e-16 -1.239249e-15  2.220446e-16 -2.146531e-14   \n",
       "std    1.004535e+00  1.004535e+00  1.004535e+00  1.004535e+00  1.004535e+00   \n",
       "min   -1.714657e+00 -1.705441e+00 -1.716122e+00 -1.730296e+00 -1.706343e+00   \n",
       "25%   -8.550082e-01 -8.583008e-01 -8.504898e-01 -8.501074e-01 -8.649371e-01   \n",
       "50%   -6.883662e-03  7.680181e-03 -7.551755e-04 -3.565477e-04  1.216698e-03   \n",
       "75%    8.458755e-01  8.585331e-01  8.660440e-01  8.589173e-01  8.634133e-01   \n",
       "max    1.733036e+00  1.709811e+00  1.729117e+00  1.727264e+00  1.720725e+00   \n",
       "\n",
       "                LBB           Pos     Fleche_BA     Fleche_BF         Corde  \\\n",
       "count  1.110000e+02  1.110000e+02  1.110000e+02  1.110000e+02  1.110000e+02   \n",
       "mean  -3.388681e-15  7.201447e-17 -3.101623e-15 -4.505905e-16  1.062213e-15   \n",
       "std    1.004535e+00  1.004535e+00  1.004535e+00  1.004535e+00  1.004535e+00   \n",
       "min   -1.736957e+00 -1.704795e+00 -1.738951e+00 -1.712961e+00 -1.727367e+00   \n",
       "25%   -8.408544e-01 -8.636119e-01 -8.507163e-01 -8.545381e-01 -8.463670e-01   \n",
       "50%   -5.886805e-04  1.997488e-03 -7.836764e-04  1.438697e-04 -4.647275e-04   \n",
       "75%    8.421384e-01  8.568748e-01  8.544164e-01  8.589795e-01  8.455404e-01   \n",
       "max    1.721999e+00  1.729364e+00  1.715654e+00  1.711483e+00  1.726368e+00   \n",
       "\n",
       "                  H             y  \n",
       "count  1.110000e+02  1.110000e+02  \n",
       "mean  -1.147230e-15  2.560514e-16  \n",
       "std    1.004535e+00  1.469217e+01  \n",
       "min   -1.738934e+00 -3.151231e+01  \n",
       "25%   -8.459085e-01 -1.085429e+01  \n",
       "50%    2.579342e-03  2.812443e-01  \n",
       "75%    8.551692e-01  1.167499e+01  \n",
       "max    1.715182e+00  3.857436e+01  "
      ]
     },
     "execution_count": 13,
     "metadata": {},
     "output_type": "execute_result"
    }
   ],
   "source": [
    "file_name=\"data_scaled.csv\"\n",
    "xy_tot=pd.read_csv(file_name,header=0,sep=';')\n",
    "xy_tot.describe()"
   ]
  },
  {
   "cell_type": "markdown",
   "metadata": {},
   "source": [
    "Visualisation"
   ]
  },
  {
   "cell_type": "code",
   "execution_count": 14,
   "metadata": {},
   "outputs": [
    {
     "name": "stdout",
     "output_type": "stream",
     "text": [
      "       Logive      Rnez    Lfente    Pfente    Dengin       LBB       Pos  \\\n",
      "0   -0.006884 -1.705441 -0.000755 -0.000357  0.001217 -0.000589 -1.704795   \n",
      "1    1.180417  1.017280  0.158841 -1.323381 -0.381422  1.503699  1.246661   \n",
      "2    0.763421 -0.126187 -1.293093 -1.730296 -1.198705 -0.751159  0.262834   \n",
      "3   -0.912675  1.588853 -0.996558 -0.023307 -1.405528  0.042921  1.440791   \n",
      "4   -0.582004 -0.475051  0.942966  0.819718 -1.594928  1.049722 -0.176757   \n",
      "5   -1.316821  1.048976  0.141276 -0.558694  0.546218  1.095591  1.679614   \n",
      "6    1.480387  0.522277  1.033672  1.484060  0.319765  0.972898  0.001997   \n",
      "7    0.753487  0.848641 -0.830038 -0.329756 -1.004553  0.996092 -1.178163   \n",
      "8   -1.463737 -0.269385 -0.741338  0.210100  0.746880  1.348900  0.577686   \n",
      "9    0.166001  0.910468 -0.601969  1.055578  0.714305 -0.478257  1.588577   \n",
      "10  -1.632167  0.759606  0.509584 -0.230606  0.055136 -0.823177  0.451986   \n",
      "11  -1.346957  1.101555  0.891944 -0.892257  0.770879 -1.027464 -1.089441   \n",
      "12   0.086744 -1.658018  0.357497 -1.257401 -1.545230  0.687674  0.331200   \n",
      "13  -1.714657  1.248499 -1.162040 -0.130650 -0.537076  0.353140 -0.295133   \n",
      "14  -0.117617  1.409295 -0.194144  0.879743 -0.245665 -0.164157 -1.682747   \n",
      "15  -1.419137 -1.571974 -0.171759 -1.142149 -0.773018 -1.471263 -0.630196   \n",
      "16  -1.291322  1.186808 -1.635552  0.492952  1.008341 -0.677924 -0.929412   \n",
      "17   0.468725  0.583389 -1.596378 -1.225726 -0.892120 -0.528475  0.534497   \n",
      "18   1.312352 -0.560715 -0.448289 -0.818416 -0.666409 -1.552087  1.535311   \n",
      "19  -0.555760  0.513671  1.291198 -1.535056  0.412835  0.460950 -1.465793   \n",
      "20   1.014118  0.952526  1.646358  0.886109 -0.574132 -1.060101 -1.298931   \n",
      "21   0.713859 -0.957729  0.057435  1.487600  1.022014 -0.398607  0.404242   \n",
      "22   0.363700  0.267265  0.498964 -1.329843  1.096738 -1.736957 -0.887565   \n",
      "23  -0.477250  0.241997 -1.546812  0.776418  1.175087  0.926438  0.952121   \n",
      "24   0.678333  1.695039  0.729280 -1.112124  1.688979  0.301124  0.799183   \n",
      "25  -0.671547  0.115335 -1.123093  0.258868 -0.490914  1.666576 -1.406572   \n",
      "26  -0.251279 -0.497429  1.729117 -1.277368  0.122582 -0.471354 -0.811302   \n",
      "27   0.949555 -0.363803 -0.299123  1.199911 -0.648939  1.167984 -0.368837   \n",
      "28  -0.965310 -1.056396  1.634903  0.584684 -0.469475 -0.664359 -0.016917   \n",
      "29   1.400480  1.228750  0.714287  0.248909 -1.162542 -0.413240  0.735984   \n",
      "..        ...       ...       ...       ...       ...       ...       ...   \n",
      "81  -1.439078  0.027061 -1.210858 -0.724792  0.386356 -0.239694  0.215721   \n",
      "82  -0.082075 -0.882625  0.883803  0.567042  0.845108  1.193824  1.416910   \n",
      "83  -0.270626  1.310784  1.136868  0.441700 -0.918534  1.455157 -0.549599   \n",
      "84  -0.131338 -1.400415 -1.322212 -0.378563  1.068666  1.041861 -0.165054   \n",
      "85   1.358971 -0.695196 -1.367320 -1.063199  1.270406  0.334624  0.691463   \n",
      "86  -0.345238 -0.833977 -1.260594  1.559839  0.202088 -0.918603  0.834052   \n",
      "87   0.032726  0.199773  1.212880 -0.100510 -1.615434 -0.968018  1.514556   \n",
      "88  -0.699430 -1.600229  0.625188  1.112926  1.637089 -0.562036  0.646754   \n",
      "89   0.329597 -1.164483  1.104363 -0.687943 -0.055547  0.555492  1.219263   \n",
      "90  -1.229733 -0.805105 -1.042002 -0.457389 -1.683946 -0.354418 -1.140770   \n",
      "91  -0.658388  1.373223  1.042783 -1.460855 -0.510283 -1.586380  0.913109   \n",
      "92  -1.100992  0.209898  1.385992 -0.294835 -0.968238 -0.327490  1.074859   \n",
      "93   0.908760 -0.353197  0.973325 -0.174640  0.805173 -1.509000  0.382093   \n",
      "94   0.491417  0.364137 -0.776669  0.748126 -1.060126 -1.236685 -0.101073   \n",
      "95   1.210620 -0.894836  0.848285 -0.626024 -1.499570 -1.223331 -1.382599   \n",
      "96   0.098884 -1.638622 -0.870942  1.371211 -1.029015  1.136563  0.879698   \n",
      "97   1.622365 -1.313636  1.421860 -0.935335  0.633564 -0.044696 -0.258942   \n",
      "98  -0.181749  1.709811  0.303688 -0.760317  0.456629 -1.321532 -0.222341   \n",
      "99   0.821531 -1.107349  1.597192  0.705961 -0.292394  0.283459  0.708727   \n",
      "100  0.134421  1.643301 -0.660455 -1.441690 -0.017550 -0.313896 -0.530614   \n",
      "101 -0.836769  0.988724 -1.486386 -0.591664  1.501474 -1.435215  0.105160   \n",
      "102 -0.061650 -1.678131 -0.509573  0.018323  1.664709 -0.012669 -0.779972   \n",
      "103  0.825642 -1.041539 -0.577984 -1.563781  0.939684  0.828719 -1.249672   \n",
      "104 -0.873247  0.627864  1.319981  0.071636  1.214829  0.117122  0.281591   \n",
      "105 -0.371224 -1.177865 -1.716122 -1.416524 -0.329705  1.575215  0.121641   \n",
      "106  1.365365  0.401407  0.579869 -1.589803 -1.320019  0.855558 -0.300283   \n",
      "107  1.575526  0.153569  0.417187  0.304250  0.518787 -1.345064  1.308070   \n",
      "108  0.607761  0.868425  1.569528 -1.661742  1.125169 -0.117207  1.367952   \n",
      "109  0.545177  1.506894  1.492570  0.139224 -1.566136 -0.808152 -0.722464   \n",
      "110 -1.649986  0.355627 -0.319054 -1.705207  0.479365  1.442388 -0.912347   \n",
      "\n",
      "     Fleche_BA  Fleche_BF     Corde         H          y  \n",
      "0    -0.000784   0.000144 -0.000465  0.002579  15.082215  \n",
      "1    -1.067143  -1.319797 -1.510690  0.046474  14.428133  \n",
      "2    -0.428908   0.423120  1.116032  1.326767  13.639695  \n",
      "3    -0.788650  -0.163929 -0.356078 -1.629291 -14.621491  \n",
      "4    -1.670344   0.871648 -1.171443  0.311507  15.061054  \n",
      "5     0.099203  -0.001805  1.533731  1.674089  25.807668  \n",
      "6     0.846364   0.632101  0.180959  1.504312  23.531258  \n",
      "7     1.229859  -1.712961 -0.793868  0.433484   6.219236  \n",
      "8     0.798398   1.164643 -0.697248 -1.569013  -8.030760  \n",
      "9    -1.562560   1.711483  0.325013  0.277522   3.667738  \n",
      "10    1.705246   1.079881 -1.358453  0.572870 -25.385887  \n",
      "11   -0.937864  -1.358933  1.229038 -1.318296 -18.109585  \n",
      "12    1.145332   0.075504 -1.483108 -0.615187  -7.415439  \n",
      "13    0.944247   0.265514  1.624114 -0.731350  -1.892957  \n",
      "14   -0.680354  -1.081458 -1.387690  1.623137   6.662982  \n",
      "15    0.312518  -0.604037 -0.790816  0.469999 -19.011805  \n",
      "16   -1.173664   0.107042 -0.669679  0.628892  -3.696731  \n",
      "17   -0.102570  -1.501582  1.498385 -1.147191  -8.068619  \n",
      "18    0.888710   1.020798  0.599277 -0.705241 -17.679583  \n",
      "19    1.067706  -0.666816 -1.111854 -0.958852 -12.575708  \n",
      "20   -0.509678  -0.133464 -0.019711  1.036516   4.133068  \n",
      "21    1.082566   1.413282  1.052076 -0.285230  -4.049510  \n",
      "22    1.273270   0.221538 -0.206680  1.416078 -14.537127  \n",
      "23   -1.125141   0.922466  1.432800 -1.355260   2.794810  \n",
      "24   -0.732563  -0.481870  0.568773  0.349512  10.011944  \n",
      "25   -0.391356  -0.878517 -1.406642 -0.780446   6.116435  \n",
      "26   -1.088601   1.281882 -0.384962  0.097579  -0.660125  \n",
      "27    1.715654  -0.303364 -0.487390 -1.369453  -2.891440  \n",
      "28    1.186401  -0.830559  1.104213 -1.258246 -18.544970  \n",
      "29    0.566361  -0.997626 -1.197371  1.163686  -2.316941  \n",
      "..         ...        ...       ...       ...        ...  \n",
      "81   -1.271887  -1.580990 -1.571376  1.066972  -3.518928  \n",
      "82    0.362096   1.526666 -1.597780  1.186711  10.402309  \n",
      "83    0.501791  -0.061057  1.301680 -0.180271  19.102320  \n",
      "84   -0.608985  -1.272485  0.360089 -0.992705   3.132885  \n",
      "85   -0.251866   0.252053 -1.435638 -1.089287  -8.971308  \n",
      "86    1.434044   0.666732 -1.308606  0.332800 -22.682182  \n",
      "87    1.019208  -1.538194  0.457930  1.442408  -3.129293  \n",
      "88   -0.279028  -0.539797 -0.592206  1.519221  -1.259672  \n",
      "89   -0.354058   0.643032  1.015945 -1.738934  -4.587775  \n",
      "90    0.640622   1.317321 -0.237473 -1.069135 -14.305521  \n",
      "91   -0.219941   1.437059  0.863160  0.770989  -4.211883  \n",
      "92   -0.485517  -0.356458 -1.727367 -1.271124 -22.724123  \n",
      "93   -1.626236  -0.901561  0.798282  0.728800   0.281244  \n",
      "94    0.999404   1.499199 -1.649972 -0.110484 -21.806348  \n",
      "95   -0.007021  -0.405492  1.671939  0.214998   2.510444  \n",
      "96   -1.158835  -0.523147  1.161904  0.150098  21.155656  \n",
      "97    1.558800  -0.446547 -0.610915  0.885253   2.510444  \n",
      "98   -0.047995   0.966707 -0.268935 -1.707492   2.510444  \n",
      "99   -1.403506  -1.657775 -0.293699 -0.573029   2.510444  \n",
      "100   1.541873  -0.726262  1.256863  1.263297   5.038344  \n",
      "101   0.621332  -0.338061 -1.273363 -0.301818 -29.002561  \n",
      "102   1.671332   0.743602  0.772315 -1.440837 -15.073987  \n",
      "103  -0.846726   1.363478 -1.228046  0.552357  14.605300  \n",
      "104  -1.343437   1.340561 -0.089744  1.562563  16.589916  \n",
      "105   1.318364   0.399677 -0.032141  1.592078  20.693799  \n",
      "106  -1.365860  -0.734403  0.075182 -1.488043   4.654538  \n",
      "107  -0.590112   0.823226  1.477577 -0.398512  -5.866806  \n",
      "108   0.408423   0.535795 -0.729284 -0.556895 -10.408305  \n",
      "109  -1.252905   0.337063  0.731229 -0.835363  -4.366241  \n",
      "110  -0.455973  -0.232344  0.603801  0.795320  22.165178  \n",
      "\n",
      "[111 rows x 12 columns]\n"
     ]
    }
   ],
   "source": [
    "print(xy_tot)"
   ]
  },
  {
   "cell_type": "markdown",
   "metadata": {},
   "source": [
    "Pour voir le format des données"
   ]
  },
  {
   "cell_type": "code",
   "execution_count": 15,
   "metadata": {},
   "outputs": [
    {
     "data": {
      "text/plain": [
       "(111, 12)"
      ]
     },
     "execution_count": 15,
     "metadata": {},
     "output_type": "execute_result"
    }
   ],
   "source": [
    "xy_tot.shape"
   ]
  },
  {
   "cell_type": "markdown",
   "metadata": {},
   "source": [
    "## ANOVA"
   ]
  },
  {
   "cell_type": "code",
   "execution_count": 10,
   "metadata": {},
   "outputs": [],
   "source": [
    "import statsmodels.api as sm\n",
    "from statsmodels.formula.api import ols"
   ]
  },
  {
   "cell_type": "code",
   "execution_count": 16,
   "metadata": {},
   "outputs": [],
   "source": [
    "results = ols('y ~ Logive+Rnez+Lfente+Pfente+Dengin+LBB+Pos+Fleche_BA+Fleche_BF+Corde+H', data=xy_tot).fit()"
   ]
  },
  {
   "cell_type": "code",
   "execution_count": 17,
   "metadata": {},
   "outputs": [
    {
     "data": {
      "text/html": [
       "<div>\n",
       "<style scoped>\n",
       "    .dataframe tbody tr th:only-of-type {\n",
       "        vertical-align: middle;\n",
       "    }\n",
       "\n",
       "    .dataframe tbody tr th {\n",
       "        vertical-align: top;\n",
       "    }\n",
       "\n",
       "    .dataframe thead th {\n",
       "        text-align: right;\n",
       "    }\n",
       "</style>\n",
       "<table border=\"1\" class=\"dataframe\">\n",
       "  <thead>\n",
       "    <tr style=\"text-align: right;\">\n",
       "      <th></th>\n",
       "      <th>sum_sq</th>\n",
       "      <th>df</th>\n",
       "      <th>F</th>\n",
       "      <th>PR(&gt;F)</th>\n",
       "    </tr>\n",
       "  </thead>\n",
       "  <tbody>\n",
       "    <tr>\n",
       "      <th>Logive</th>\n",
       "      <td>812.660368</td>\n",
       "      <td>1.0</td>\n",
       "      <td>63.855565</td>\n",
       "      <td>2.509619e-12</td>\n",
       "    </tr>\n",
       "    <tr>\n",
       "      <th>Rnez</th>\n",
       "      <td>13.164762</td>\n",
       "      <td>1.0</td>\n",
       "      <td>1.034434</td>\n",
       "      <td>3.115987e-01</td>\n",
       "    </tr>\n",
       "    <tr>\n",
       "      <th>Lfente</th>\n",
       "      <td>4.514731</td>\n",
       "      <td>1.0</td>\n",
       "      <td>0.354749</td>\n",
       "      <td>5.527961e-01</td>\n",
       "    </tr>\n",
       "    <tr>\n",
       "      <th>Pfente</th>\n",
       "      <td>2.129187</td>\n",
       "      <td>1.0</td>\n",
       "      <td>0.167303</td>\n",
       "      <td>6.834035e-01</td>\n",
       "    </tr>\n",
       "    <tr>\n",
       "      <th>Dengin</th>\n",
       "      <td>104.841788</td>\n",
       "      <td>1.0</td>\n",
       "      <td>8.238044</td>\n",
       "      <td>5.016189e-03</td>\n",
       "    </tr>\n",
       "    <tr>\n",
       "      <th>LBB</th>\n",
       "      <td>11212.193305</td>\n",
       "      <td>1.0</td>\n",
       "      <td>881.008803</td>\n",
       "      <td>4.402781e-51</td>\n",
       "    </tr>\n",
       "    <tr>\n",
       "      <th>Pos</th>\n",
       "      <td>144.443696</td>\n",
       "      <td>1.0</td>\n",
       "      <td>11.349801</td>\n",
       "      <td>1.076363e-03</td>\n",
       "    </tr>\n",
       "    <tr>\n",
       "      <th>Fleche_BA</th>\n",
       "      <td>1494.859576</td>\n",
       "      <td>1.0</td>\n",
       "      <td>117.460020</td>\n",
       "      <td>1.640449e-18</td>\n",
       "    </tr>\n",
       "    <tr>\n",
       "      <th>Fleche_BF</th>\n",
       "      <td>166.712389</td>\n",
       "      <td>1.0</td>\n",
       "      <td>13.099585</td>\n",
       "      <td>4.674632e-04</td>\n",
       "    </tr>\n",
       "    <tr>\n",
       "      <th>Corde</th>\n",
       "      <td>2209.664849</td>\n",
       "      <td>1.0</td>\n",
       "      <td>173.626527</td>\n",
       "      <td>1.666877e-23</td>\n",
       "    </tr>\n",
       "    <tr>\n",
       "      <th>H</th>\n",
       "      <td>6127.907315</td>\n",
       "      <td>1.0</td>\n",
       "      <td>481.506173</td>\n",
       "      <td>8.284227e-40</td>\n",
       "    </tr>\n",
       "    <tr>\n",
       "      <th>Residual</th>\n",
       "      <td>1259.927408</td>\n",
       "      <td>99.0</td>\n",
       "      <td>NaN</td>\n",
       "      <td>NaN</td>\n",
       "    </tr>\n",
       "  </tbody>\n",
       "</table>\n",
       "</div>"
      ],
      "text/plain": [
       "                 sum_sq    df           F        PR(>F)\n",
       "Logive       812.660368   1.0   63.855565  2.509619e-12\n",
       "Rnez          13.164762   1.0    1.034434  3.115987e-01\n",
       "Lfente         4.514731   1.0    0.354749  5.527961e-01\n",
       "Pfente         2.129187   1.0    0.167303  6.834035e-01\n",
       "Dengin       104.841788   1.0    8.238044  5.016189e-03\n",
       "LBB        11212.193305   1.0  881.008803  4.402781e-51\n",
       "Pos          144.443696   1.0   11.349801  1.076363e-03\n",
       "Fleche_BA   1494.859576   1.0  117.460020  1.640449e-18\n",
       "Fleche_BF    166.712389   1.0   13.099585  4.674632e-04\n",
       "Corde       2209.664849   1.0  173.626527  1.666877e-23\n",
       "H           6127.907315   1.0  481.506173  8.284227e-40\n",
       "Residual    1259.927408  99.0         NaN           NaN"
      ]
     },
     "execution_count": 17,
     "metadata": {},
     "output_type": "execute_result"
    }
   ],
   "source": [
    "aov_table = sm.stats.anova_lm(results, typ=2)\n",
    "aov_table"
   ]
  },
  {
   "cell_type": "markdown",
   "metadata": {},
   "source": [
    "## Métamodèles"
   ]
  },
  {
   "cell_type": "markdown",
   "metadata": {},
   "source": [
    "**Modèle de type régression linéaire**"
   ]
  },
  {
   "cell_type": "markdown",
   "metadata": {},
   "source": [
    "On sépare input et sortie y"
   ]
  },
  {
   "cell_type": "code",
   "execution_count": 18,
   "metadata": {},
   "outputs": [],
   "source": [
    "y_tot= xy_tot.pop('y').values"
   ]
  },
  {
   "cell_type": "code",
   "execution_count": 19,
   "metadata": {},
   "outputs": [
    {
     "data": {
      "text/plain": [
       "(111,)"
      ]
     },
     "execution_count": 19,
     "metadata": {},
     "output_type": "execute_result"
    }
   ],
   "source": [
    "y_tot.shape"
   ]
  },
  {
   "cell_type": "code",
   "execution_count": 20,
   "metadata": {},
   "outputs": [
    {
     "data": {
      "text/plain": [
       "(111, 11)"
      ]
     },
     "execution_count": 20,
     "metadata": {},
     "output_type": "execute_result"
    }
   ],
   "source": [
    "xy_tot.shape"
   ]
  },
  {
   "cell_type": "code",
   "execution_count": 21,
   "metadata": {},
   "outputs": [],
   "source": [
    "import sklearn.linear_model as lm\n",
    "linreg = lm.LinearRegression()"
   ]
  },
  {
   "cell_type": "markdown",
   "metadata": {},
   "source": [
    "Il faut un vecteur de type (111,1) pour l'apprentissage, on fait un reshape"
   ]
  },
  {
   "cell_type": "code",
   "execution_count": 22,
   "metadata": {},
   "outputs": [],
   "source": [
    "y_tot=y_tot.reshape(111,1)"
   ]
  },
  {
   "cell_type": "code",
   "execution_count": 23,
   "metadata": {},
   "outputs": [],
   "source": [
    "lr=linreg.fit(xy_tot, y_tot)"
   ]
  },
  {
   "cell_type": "code",
   "execution_count": 24,
   "metadata": {},
   "outputs": [
    {
     "data": {
      "text/plain": [
       "array([[ 2.70706557,  0.34464074,  0.20177241, -0.13855055, -0.9722701 ,\n",
       "        10.05621906, -1.14169927, -3.67074322,  1.22685458,  4.46473728,\n",
       "         7.4341813 ]])"
      ]
     },
     "execution_count": 24,
     "metadata": {},
     "output_type": "execute_result"
    }
   ],
   "source": [
    "lr.coef_"
   ]
  },
  {
   "cell_type": "code",
   "execution_count": 25,
   "metadata": {},
   "outputs": [
    {
     "data": {
      "text/plain": [
       "0.9469383114183839"
      ]
     },
     "execution_count": 25,
     "metadata": {},
     "output_type": "execute_result"
    }
   ],
   "source": [
    "linreg.score(xy_tot,y_tot)"
   ]
  },
  {
   "cell_type": "markdown",
   "metadata": {},
   "source": [
    "Tracés"
   ]
  },
  {
   "cell_type": "code",
   "execution_count": 26,
   "metadata": {},
   "outputs": [
    {
     "name": "stdout",
     "output_type": "stream",
     "text": [
      "Populating the interactive namespace from numpy and matplotlib\n"
     ]
    }
   ],
   "source": [
    "%pylab inline"
   ]
  },
  {
   "cell_type": "code",
   "execution_count": 27,
   "metadata": {},
   "outputs": [
    {
     "data": {
      "text/plain": [
       "[<matplotlib.lines.Line2D at 0xbcbfc18>]"
      ]
     },
     "execution_count": 27,
     "metadata": {},
     "output_type": "execute_result"
    },
    {
     "data": {
      "image/png": "[encoded data removed]",
      "text/plain": [
       "<Figure size 432x288 with 1 Axes>"
      ]
     },
     "metadata": {
      "needs_background": "light"
     },
     "output_type": "display_data"
    }
   ],
   "source": [
    "plt.plot(y_tot,lr.predict(xy_tot),'o')"
   ]
  },
  {
   "cell_type": "markdown",
   "metadata": {},
   "source": [
    "**Modèle de type MLP**"
   ]
  },
  {
   "cell_type": "markdown",
   "metadata": {},
   "source": [
    "On sépare les données entre apprentissage et test (20%)"
   ]
  },
  {
   "cell_type": "code",
   "execution_count": 28,
   "metadata": {},
   "outputs": [],
   "source": [
    "from sklearn.model_selection import train_test_split"
   ]
  },
  {
   "cell_type": "code",
   "execution_count": 29,
   "metadata": {},
   "outputs": [],
   "source": [
    "x_train, x_test, y_train, y_test = train_test_split(xy_tot, y_tot, test_size=0.2)"
   ]
  },
  {
   "cell_type": "code",
   "execution_count": 30,
   "metadata": {},
   "outputs": [],
   "source": [
    "from sklearn.neural_network import MLPRegressor"
   ]
  },
  {
   "cell_type": "code",
   "execution_count": 42,
   "metadata": {},
   "outputs": [],
   "source": [
    "nnet=MLPRegressor(hidden_layer_sizes=(11,),max_iter=5000,activation='tanh',alpha=0.05,solver='lbfgs')"
   ]
  },
  {
   "cell_type": "code",
   "execution_count": 43,
   "metadata": {},
   "outputs": [],
   "source": [
    "y_train=y_train.reshape(88,)"
   ]
  },
  {
   "cell_type": "code",
   "execution_count": 44,
   "metadata": {},
   "outputs": [],
   "source": [
    "y_test=y_test.reshape(23,)"
   ]
  },
  {
   "cell_type": "code",
   "execution_count": 45,
   "metadata": {},
   "outputs": [
    {
     "data": {
      "text/plain": [
       "MLPRegressor(activation='tanh', alpha=0.05, batch_size='auto', beta_1=0.9,\n",
       "       beta_2=0.999, early_stopping=False, epsilon=1e-08,\n",
       "       hidden_layer_sizes=(11,), learning_rate='constant',\n",
       "       learning_rate_init=0.001, max_iter=5000, momentum=0.9,\n",
       "       n_iter_no_change=10, nesterovs_momentum=True, power_t=0.5,\n",
       "       random_state=None, shuffle=True, solver='lbfgs', tol=0.0001,\n",
       "       validation_fraction=0.1, verbose=False, warm_start=False)"
      ]
     },
     "execution_count": 45,
     "metadata": {},
     "output_type": "execute_result"
    }
   ],
   "source": [
    "nnet.fit(x_train,y_train)"
   ]
  },
  {
   "cell_type": "code",
   "execution_count": 46,
   "metadata": {},
   "outputs": [],
   "source": [
    "y_pred=nnet.predict(x_test)"
   ]
  },
  {
   "cell_type": "code",
   "execution_count": 38,
   "metadata": {},
   "outputs": [
    {
     "name": "stdout",
     "output_type": "stream",
     "text": [
      "Populating the interactive namespace from numpy and matplotlib\n"
     ]
    }
   ],
   "source": [
    "%pylab inline"
   ]
  },
  {
   "cell_type": "code",
   "execution_count": 47,
   "metadata": {},
   "outputs": [
    {
     "data": {
      "text/plain": [
       "[<matplotlib.lines.Line2D at 0xbe3d320>]"
      ]
     },
     "execution_count": 47,
     "metadata": {},
     "output_type": "execute_result"
    },
    {
     "data": {
      "image/png": "[encoded data removed]",
      "text/plain": [
       "<Figure size 432x288 with 1 Axes>"
      ]
     },
     "metadata": {
      "needs_background": "light"
     },
     "output_type": "display_data"
    }
   ],
   "source": [
    "plt.plot(y_test, y_pred,'o')"
   ]
  },
  {
   "cell_type": "markdown",
   "metadata": {},
   "source": [
    "Calcul du coefficient de détermination R2"
   ]
  },
  {
   "cell_type": "code",
   "execution_count": 40,
   "metadata": {},
   "outputs": [],
   "source": [
    "from sklearn.metrics import r2_score"
   ]
  },
  {
   "cell_type": "code",
   "execution_count": 48,
   "metadata": {},
   "outputs": [
    {
     "data": {
      "text/plain": [
       "0.8918561746861287"
      ]
     },
     "execution_count": 48,
     "metadata": {},
     "output_type": "execute_result"
    }
   ],
   "source": [
    "r2_score(y_test,y_pred)"
   ]
  },
  {
   "cell_type": "markdown",
   "metadata": {},
   "source": [
    "**Exercice 1** : Tester avec d'autres paramètres"
   ]
  },
  {
   "cell_type": "code",
   "execution_count": null,
   "metadata": {
    "collapsed": true
   },
   "outputs": [],
   "source": []
  },
  {
   "cell_type": "markdown",
   "metadata": {},
   "source": [
    "**Exercice 2** : Tester d'autres métamodèles"
   ]
  },
  {
   "cell_type": "code",
   "execution_count": null,
   "metadata": {
    "collapsed": true
   },
   "outputs": [],
   "source": []
  },
  {
   "cell_type": "markdown",
   "metadata": {},
   "source": [
    "## Analyse de sensibilité"
   ]
  },
  {
   "cell_type": "markdown",
   "metadata": {},
   "source": [
    "Nous allons utiliser OpenTURNS et les 3 composantes de l'ACP"
   ]
  },
  {
   "cell_type": "code",
   "execution_count": 22,
   "metadata": {},
   "outputs": [],
   "source": [
    "import openturns as ot"
   ]
  },
  {
   "cell_type": "code",
   "execution_count": 23,
   "metadata": {},
   "outputs": [
    {
     "data": {
      "text/html": [
       "<div>\n",
       "<style scoped>\n",
       "    .dataframe tbody tr th:only-of-type {\n",
       "        vertical-align: middle;\n",
       "    }\n",
       "\n",
       "    .dataframe tbody tr th {\n",
       "        vertical-align: top;\n",
       "    }\n",
       "\n",
       "    .dataframe thead th {\n",
       "        text-align: right;\n",
       "    }\n",
       "</style>\n",
       "<table border=\"1\" class=\"dataframe\">\n",
       "  <thead>\n",
       "    <tr style=\"text-align: right;\">\n",
       "      <th></th>\n",
       "      <th>Logive</th>\n",
       "      <th>Rnez</th>\n",
       "      <th>Lfente</th>\n",
       "      <th>Pfente</th>\n",
       "      <th>Dengin</th>\n",
       "      <th>LBB</th>\n",
       "      <th>Pos</th>\n",
       "      <th>Fleche_BA</th>\n",
       "      <th>Fleche_BF</th>\n",
       "      <th>Corde</th>\n",
       "      <th>H</th>\n",
       "      <th>y1</th>\n",
       "      <th>y2</th>\n",
       "      <th>y3</th>\n",
       "    </tr>\n",
       "  </thead>\n",
       "  <tbody>\n",
       "    <tr>\n",
       "      <th>count</th>\n",
       "      <td>111.000000</td>\n",
       "      <td>111.000000</td>\n",
       "      <td>111.000000</td>\n",
       "      <td>111.000000</td>\n",
       "      <td>111.000000</td>\n",
       "      <td>111.000000</td>\n",
       "      <td>111.000000</td>\n",
       "      <td>111.000000</td>\n",
       "      <td>111.000000</td>\n",
       "      <td>111.000000</td>\n",
       "      <td>111.000000</td>\n",
       "      <td>1.110000e+02</td>\n",
       "      <td>1.110000e+02</td>\n",
       "      <td>1.110000e+02</td>\n",
       "    </tr>\n",
       "    <tr>\n",
       "      <th>mean</th>\n",
       "      <td>0.497335</td>\n",
       "      <td>0.499360</td>\n",
       "      <td>0.498114</td>\n",
       "      <td>0.500438</td>\n",
       "      <td>0.497902</td>\n",
       "      <td>0.502162</td>\n",
       "      <td>0.496423</td>\n",
       "      <td>0.503372</td>\n",
       "      <td>0.500216</td>\n",
       "      <td>0.500145</td>\n",
       "      <td>0.503438</td>\n",
       "      <td>2.560514e-16</td>\n",
       "      <td>6.621330e-16</td>\n",
       "      <td>1.720346e-16</td>\n",
       "    </tr>\n",
       "    <tr>\n",
       "      <th>std</th>\n",
       "      <td>0.291364</td>\n",
       "      <td>0.294132</td>\n",
       "      <td>0.291572</td>\n",
       "      <td>0.290533</td>\n",
       "      <td>0.293118</td>\n",
       "      <td>0.290416</td>\n",
       "      <td>0.292513</td>\n",
       "      <td>0.290781</td>\n",
       "      <td>0.293343</td>\n",
       "      <td>0.290855</td>\n",
       "      <td>0.290823</td>\n",
       "      <td>1.469217e+01</td>\n",
       "      <td>1.172201e+01</td>\n",
       "      <td>3.007738e+00</td>\n",
       "    </tr>\n",
       "    <tr>\n",
       "      <th>min</th>\n",
       "      <td>0.000000</td>\n",
       "      <td>0.000000</td>\n",
       "      <td>0.000000</td>\n",
       "      <td>0.000000</td>\n",
       "      <td>0.000000</td>\n",
       "      <td>0.000000</td>\n",
       "      <td>0.000000</td>\n",
       "      <td>0.000000</td>\n",
       "      <td>0.000000</td>\n",
       "      <td>0.000000</td>\n",
       "      <td>0.000000</td>\n",
       "      <td>-3.151231e+01</td>\n",
       "      <td>-2.468260e+01</td>\n",
       "      <td>-5.644749e+00</td>\n",
       "    </tr>\n",
       "    <tr>\n",
       "      <th>25%</th>\n",
       "      <td>0.249340</td>\n",
       "      <td>0.248046</td>\n",
       "      <td>0.251255</td>\n",
       "      <td>0.254569</td>\n",
       "      <td>0.245518</td>\n",
       "      <td>0.259067</td>\n",
       "      <td>0.244946</td>\n",
       "      <td>0.257116</td>\n",
       "      <td>0.250675</td>\n",
       "      <td>0.255086</td>\n",
       "      <td>0.258540</td>\n",
       "      <td>-1.085429e+01</td>\n",
       "      <td>-8.704975e+00</td>\n",
       "      <td>-2.317673e+00</td>\n",
       "    </tr>\n",
       "    <tr>\n",
       "      <th>50%</th>\n",
       "      <td>0.495338</td>\n",
       "      <td>0.501609</td>\n",
       "      <td>0.497895</td>\n",
       "      <td>0.500335</td>\n",
       "      <td>0.498257</td>\n",
       "      <td>0.501992</td>\n",
       "      <td>0.497005</td>\n",
       "      <td>0.503145</td>\n",
       "      <td>0.500258</td>\n",
       "      <td>0.500010</td>\n",
       "      <td>0.504185</td>\n",
       "      <td>2.812443e-01</td>\n",
       "      <td>-2.277762e-01</td>\n",
       "      <td>7.869673e-02</td>\n",
       "    </tr>\n",
       "    <tr>\n",
       "      <th>75%</th>\n",
       "      <td>0.742680</td>\n",
       "      <td>0.750742</td>\n",
       "      <td>0.749488</td>\n",
       "      <td>0.748856</td>\n",
       "      <td>0.749841</td>\n",
       "      <td>0.745628</td>\n",
       "      <td>0.745938</td>\n",
       "      <td>0.750699</td>\n",
       "      <td>0.751053</td>\n",
       "      <td>0.744964</td>\n",
       "      <td>0.751018</td>\n",
       "      <td>1.167499e+01</td>\n",
       "      <td>9.396469e+00</td>\n",
       "      <td>2.829186e+00</td>\n",
       "    </tr>\n",
       "    <tr>\n",
       "      <th>max</th>\n",
       "      <td>1.000000</td>\n",
       "      <td>1.000000</td>\n",
       "      <td>1.000000</td>\n",
       "      <td>1.000000</td>\n",
       "      <td>1.000000</td>\n",
       "      <td>1.000000</td>\n",
       "      <td>1.000000</td>\n",
       "      <td>1.000000</td>\n",
       "      <td>1.000000</td>\n",
       "      <td>1.000000</td>\n",
       "      <td>1.000000</td>\n",
       "      <td>3.857436e+01</td>\n",
       "      <td>2.597075e+01</td>\n",
       "      <td>7.005887e+00</td>\n",
       "    </tr>\n",
       "  </tbody>\n",
       "</table>\n",
       "</div>"
      ],
      "text/plain": [
       "           Logive        Rnez      Lfente      Pfente      Dengin         LBB  \\\n",
       "count  111.000000  111.000000  111.000000  111.000000  111.000000  111.000000   \n",
       "mean     0.497335    0.499360    0.498114    0.500438    0.497902    0.502162   \n",
       "std      0.291364    0.294132    0.291572    0.290533    0.293118    0.290416   \n",
       "min      0.000000    0.000000    0.000000    0.000000    0.000000    0.000000   \n",
       "25%      0.249340    0.248046    0.251255    0.254569    0.245518    0.259067   \n",
       "50%      0.495338    0.501609    0.497895    0.500335    0.498257    0.501992   \n",
       "75%      0.742680    0.750742    0.749488    0.748856    0.749841    0.745628   \n",
       "max      1.000000    1.000000    1.000000    1.000000    1.000000    1.000000   \n",
       "\n",
       "              Pos   Fleche_BA   Fleche_BF       Corde           H  \\\n",
       "count  111.000000  111.000000  111.000000  111.000000  111.000000   \n",
       "mean     0.496423    0.503372    0.500216    0.500145    0.503438   \n",
       "std      0.292513    0.290781    0.293343    0.290855    0.290823   \n",
       "min      0.000000    0.000000    0.000000    0.000000    0.000000   \n",
       "25%      0.244946    0.257116    0.250675    0.255086    0.258540   \n",
       "50%      0.497005    0.503145    0.500258    0.500010    0.504185   \n",
       "75%      0.745938    0.750699    0.751053    0.744964    0.751018   \n",
       "max      1.000000    1.000000    1.000000    1.000000    1.000000   \n",
       "\n",
       "                 y1            y2            y3  \n",
       "count  1.110000e+02  1.110000e+02  1.110000e+02  \n",
       "mean   2.560514e-16  6.621330e-16  1.720346e-16  \n",
       "std    1.469217e+01  1.172201e+01  3.007738e+00  \n",
       "min   -3.151231e+01 -2.468260e+01 -5.644749e+00  \n",
       "25%   -1.085429e+01 -8.704975e+00 -2.317673e+00  \n",
       "50%    2.812443e-01 -2.277762e-01  7.869673e-02  \n",
       "75%    1.167499e+01  9.396469e+00  2.829186e+00  \n",
       "max    3.857436e+01  2.597075e+01  7.005887e+00  "
      ]
     },
     "execution_count": 23,
     "metadata": {},
     "output_type": "execute_result"
    }
   ],
   "source": [
    "file_name=\"data_scaled2.csv\"\n",
    "xy_tot=pd.read_csv(file_name,header=0,sep=';')\n",
    "xy_tot.describe()"
   ]
  },
  {
   "cell_type": "markdown",
   "metadata": {},
   "source": [
    "On extrait les 3 sorties, à savoir les valeurs sur les 3 premières composantes de l'ACP"
   ]
  },
  {
   "cell_type": "code",
   "execution_count": 24,
   "metadata": {},
   "outputs": [
    {
     "data": {
      "text/html": [
       "<div>\n",
       "<style scoped>\n",
       "    .dataframe tbody tr th:only-of-type {\n",
       "        vertical-align: middle;\n",
       "    }\n",
       "\n",
       "    .dataframe tbody tr th {\n",
       "        vertical-align: top;\n",
       "    }\n",
       "\n",
       "    .dataframe thead th {\n",
       "        text-align: right;\n",
       "    }\n",
       "</style>\n",
       "<table border=\"1\" class=\"dataframe\">\n",
       "  <thead>\n",
       "    <tr style=\"text-align: right;\">\n",
       "      <th></th>\n",
       "      <th>y1</th>\n",
       "      <th>y2</th>\n",
       "      <th>y3</th>\n",
       "    </tr>\n",
       "  </thead>\n",
       "  <tbody>\n",
       "    <tr>\n",
       "      <th>0</th>\n",
       "      <td>15.082215</td>\n",
       "      <td>-5.248569</td>\n",
       "      <td>0.048376</td>\n",
       "    </tr>\n",
       "    <tr>\n",
       "      <th>1</th>\n",
       "      <td>14.428133</td>\n",
       "      <td>17.671144</td>\n",
       "      <td>1.892574</td>\n",
       "    </tr>\n",
       "    <tr>\n",
       "      <th>2</th>\n",
       "      <td>13.639695</td>\n",
       "      <td>-23.445469</td>\n",
       "      <td>1.156799</td>\n",
       "    </tr>\n",
       "    <tr>\n",
       "      <th>3</th>\n",
       "      <td>-14.621491</td>\n",
       "      <td>0.000358</td>\n",
       "      <td>4.929759</td>\n",
       "    </tr>\n",
       "    <tr>\n",
       "      <th>4</th>\n",
       "      <td>15.061054</td>\n",
       "      <td>1.235525</td>\n",
       "      <td>4.753541</td>\n",
       "    </tr>\n",
       "    <tr>\n",
       "      <th>5</th>\n",
       "      <td>25.807668</td>\n",
       "      <td>-9.829462</td>\n",
       "      <td>-3.863466</td>\n",
       "    </tr>\n",
       "    <tr>\n",
       "      <th>6</th>\n",
       "      <td>23.531258</td>\n",
       "      <td>10.713016</td>\n",
       "      <td>-2.285297</td>\n",
       "    </tr>\n",
       "    <tr>\n",
       "      <th>7</th>\n",
       "      <td>6.219236</td>\n",
       "      <td>16.677622</td>\n",
       "      <td>3.517117</td>\n",
       "    </tr>\n",
       "    <tr>\n",
       "      <th>8</th>\n",
       "      <td>-8.030760</td>\n",
       "      <td>19.209484</td>\n",
       "      <td>-0.108838</td>\n",
       "    </tr>\n",
       "    <tr>\n",
       "      <th>9</th>\n",
       "      <td>3.667738</td>\n",
       "      <td>-12.163948</td>\n",
       "      <td>-2.651874</td>\n",
       "    </tr>\n",
       "    <tr>\n",
       "      <th>10</th>\n",
       "      <td>-25.385887</td>\n",
       "      <td>6.921369</td>\n",
       "      <td>-0.923274</td>\n",
       "    </tr>\n",
       "    <tr>\n",
       "      <th>11</th>\n",
       "      <td>-18.109585</td>\n",
       "      <td>-6.272211</td>\n",
       "      <td>-2.593582</td>\n",
       "    </tr>\n",
       "    <tr>\n",
       "      <th>12</th>\n",
       "      <td>-7.415439</td>\n",
       "      <td>12.167604</td>\n",
       "      <td>7.005887</td>\n",
       "    </tr>\n",
       "    <tr>\n",
       "      <th>13</th>\n",
       "      <td>-1.892957</td>\n",
       "      <td>-4.404403</td>\n",
       "      <td>1.694402</td>\n",
       "    </tr>\n",
       "    <tr>\n",
       "      <th>14</th>\n",
       "      <td>6.662982</td>\n",
       "      <td>-2.197304</td>\n",
       "      <td>0.226222</td>\n",
       "    </tr>\n",
       "    <tr>\n",
       "      <th>15</th>\n",
       "      <td>-19.011805</td>\n",
       "      <td>-8.906402</td>\n",
       "      <td>0.919327</td>\n",
       "    </tr>\n",
       "    <tr>\n",
       "      <th>16</th>\n",
       "      <td>-3.696731</td>\n",
       "      <td>-8.084839</td>\n",
       "      <td>-3.063323</td>\n",
       "    </tr>\n",
       "    <tr>\n",
       "      <th>17</th>\n",
       "      <td>-8.068619</td>\n",
       "      <td>-8.045960</td>\n",
       "      <td>2.773495</td>\n",
       "    </tr>\n",
       "    <tr>\n",
       "      <th>18</th>\n",
       "      <td>-17.679583</td>\n",
       "      <td>-6.853342</td>\n",
       "      <td>1.101581</td>\n",
       "    </tr>\n",
       "    <tr>\n",
       "      <th>19</th>\n",
       "      <td>-12.575708</td>\n",
       "      <td>16.784550</td>\n",
       "      <td>0.521026</td>\n",
       "    </tr>\n",
       "    <tr>\n",
       "      <th>20</th>\n",
       "      <td>4.133068</td>\n",
       "      <td>-13.822580</td>\n",
       "      <td>0.358419</td>\n",
       "    </tr>\n",
       "    <tr>\n",
       "      <th>21</th>\n",
       "      <td>-4.049510</td>\n",
       "      <td>-0.227776</td>\n",
       "      <td>-2.717663</td>\n",
       "    </tr>\n",
       "    <tr>\n",
       "      <th>22</th>\n",
       "      <td>-14.537127</td>\n",
       "      <td>-3.968990</td>\n",
       "      <td>-4.846054</td>\n",
       "    </tr>\n",
       "    <tr>\n",
       "      <th>23</th>\n",
       "      <td>2.794810</td>\n",
       "      <td>4.126051</td>\n",
       "      <td>-2.072995</td>\n",
       "    </tr>\n",
       "    <tr>\n",
       "      <th>24</th>\n",
       "      <td>10.011944</td>\n",
       "      <td>-0.213646</td>\n",
       "      <td>-4.667042</td>\n",
       "    </tr>\n",
       "    <tr>\n",
       "      <th>25</th>\n",
       "      <td>6.116435</td>\n",
       "      <td>20.334460</td>\n",
       "      <td>3.171829</td>\n",
       "    </tr>\n",
       "    <tr>\n",
       "      <th>26</th>\n",
       "      <td>-0.660125</td>\n",
       "      <td>-6.717393</td>\n",
       "      <td>-0.263610</td>\n",
       "    </tr>\n",
       "    <tr>\n",
       "      <th>27</th>\n",
       "      <td>-2.891440</td>\n",
       "      <td>21.818792</td>\n",
       "      <td>3.890964</td>\n",
       "    </tr>\n",
       "    <tr>\n",
       "      <th>28</th>\n",
       "      <td>-18.544970</td>\n",
       "      <td>-2.712193</td>\n",
       "      <td>1.235653</td>\n",
       "    </tr>\n",
       "    <tr>\n",
       "      <th>29</th>\n",
       "      <td>-2.316941</td>\n",
       "      <td>1.150433</td>\n",
       "      <td>3.075732</td>\n",
       "    </tr>\n",
       "    <tr>\n",
       "      <th>...</th>\n",
       "      <td>...</td>\n",
       "      <td>...</td>\n",
       "      <td>...</td>\n",
       "    </tr>\n",
       "    <tr>\n",
       "      <th>81</th>\n",
       "      <td>-3.518928</td>\n",
       "      <td>-4.669416</td>\n",
       "      <td>-1.020607</td>\n",
       "    </tr>\n",
       "    <tr>\n",
       "      <th>82</th>\n",
       "      <td>10.402309</td>\n",
       "      <td>16.726614</td>\n",
       "      <td>-2.195761</td>\n",
       "    </tr>\n",
       "    <tr>\n",
       "      <th>83</th>\n",
       "      <td>19.102320</td>\n",
       "      <td>5.126239</td>\n",
       "      <td>2.626096</td>\n",
       "    </tr>\n",
       "    <tr>\n",
       "      <th>84</th>\n",
       "      <td>3.132885</td>\n",
       "      <td>10.295284</td>\n",
       "      <td>-1.424803</td>\n",
       "    </tr>\n",
       "    <tr>\n",
       "      <th>85</th>\n",
       "      <td>-8.971308</td>\n",
       "      <td>17.590611</td>\n",
       "      <td>-1.658669</td>\n",
       "    </tr>\n",
       "    <tr>\n",
       "      <th>86</th>\n",
       "      <td>-22.682182</td>\n",
       "      <td>6.331654</td>\n",
       "      <td>-0.764240</td>\n",
       "    </tr>\n",
       "    <tr>\n",
       "      <th>87</th>\n",
       "      <td>-3.129293</td>\n",
       "      <td>-16.021407</td>\n",
       "      <td>2.990539</td>\n",
       "    </tr>\n",
       "    <tr>\n",
       "      <th>88</th>\n",
       "      <td>-1.259672</td>\n",
       "      <td>-6.353499</td>\n",
       "      <td>-5.644749</td>\n",
       "    </tr>\n",
       "    <tr>\n",
       "      <th>89</th>\n",
       "      <td>-4.587775</td>\n",
       "      <td>4.464419</td>\n",
       "      <td>1.652787</td>\n",
       "    </tr>\n",
       "    <tr>\n",
       "      <th>90</th>\n",
       "      <td>-14.305521</td>\n",
       "      <td>-1.540778</td>\n",
       "      <td>5.299388</td>\n",
       "    </tr>\n",
       "    <tr>\n",
       "      <th>91</th>\n",
       "      <td>-4.211883</td>\n",
       "      <td>-23.413668</td>\n",
       "      <td>-0.983279</td>\n",
       "    </tr>\n",
       "    <tr>\n",
       "      <th>92</th>\n",
       "      <td>-22.724123</td>\n",
       "      <td>5.064466</td>\n",
       "      <td>3.406509</td>\n",
       "    </tr>\n",
       "    <tr>\n",
       "      <th>93</th>\n",
       "      <td>0.281244</td>\n",
       "      <td>-20.996964</td>\n",
       "      <td>-3.597579</td>\n",
       "    </tr>\n",
       "    <tr>\n",
       "      <th>94</th>\n",
       "      <td>-21.806348</td>\n",
       "      <td>3.434910</td>\n",
       "      <td>3.004875</td>\n",
       "    </tr>\n",
       "    <tr>\n",
       "      <th>95</th>\n",
       "      <td>2.510444</td>\n",
       "      <td>-20.181632</td>\n",
       "      <td>2.884877</td>\n",
       "    </tr>\n",
       "    <tr>\n",
       "      <th>96</th>\n",
       "      <td>21.155656</td>\n",
       "      <td>-6.036555</td>\n",
       "      <td>2.464411</td>\n",
       "    </tr>\n",
       "    <tr>\n",
       "      <th>97</th>\n",
       "      <td>2.510444</td>\n",
       "      <td>-20.181632</td>\n",
       "      <td>2.884877</td>\n",
       "    </tr>\n",
       "    <tr>\n",
       "      <th>98</th>\n",
       "      <td>2.510444</td>\n",
       "      <td>-20.181632</td>\n",
       "      <td>2.884877</td>\n",
       "    </tr>\n",
       "    <tr>\n",
       "      <th>99</th>\n",
       "      <td>2.510444</td>\n",
       "      <td>-20.181632</td>\n",
       "      <td>2.884877</td>\n",
       "    </tr>\n",
       "    <tr>\n",
       "      <th>100</th>\n",
       "      <td>5.038344</td>\n",
       "      <td>-6.300189</td>\n",
       "      <td>-1.067100</td>\n",
       "    </tr>\n",
       "    <tr>\n",
       "      <th>101</th>\n",
       "      <td>-29.002561</td>\n",
       "      <td>6.368195</td>\n",
       "      <td>-4.906125</td>\n",
       "    </tr>\n",
       "    <tr>\n",
       "      <th>102</th>\n",
       "      <td>-15.073987</td>\n",
       "      <td>12.165706</td>\n",
       "      <td>-3.557411</td>\n",
       "    </tr>\n",
       "    <tr>\n",
       "      <th>103</th>\n",
       "      <td>14.605300</td>\n",
       "      <td>13.288926</td>\n",
       "      <td>-2.474625</td>\n",
       "    </tr>\n",
       "    <tr>\n",
       "      <th>104</th>\n",
       "      <td>16.589916</td>\n",
       "      <td>-11.271121</td>\n",
       "      <td>-4.816536</td>\n",
       "    </tr>\n",
       "    <tr>\n",
       "      <th>105</th>\n",
       "      <td>20.693799</td>\n",
       "      <td>13.456612</td>\n",
       "      <td>0.029398</td>\n",
       "    </tr>\n",
       "    <tr>\n",
       "      <th>106</th>\n",
       "      <td>4.654538</td>\n",
       "      <td>7.894375</td>\n",
       "      <td>5.374924</td>\n",
       "    </tr>\n",
       "    <tr>\n",
       "      <th>107</th>\n",
       "      <td>-5.866806</td>\n",
       "      <td>-13.270626</td>\n",
       "      <td>-2.350050</td>\n",
       "    </tr>\n",
       "    <tr>\n",
       "      <th>108</th>\n",
       "      <td>-10.408305</td>\n",
       "      <td>8.893657</td>\n",
       "      <td>-2.098407</td>\n",
       "    </tr>\n",
       "    <tr>\n",
       "      <th>109</th>\n",
       "      <td>-4.366241</td>\n",
       "      <td>-12.467366</td>\n",
       "      <td>4.576693</td>\n",
       "    </tr>\n",
       "    <tr>\n",
       "      <th>110</th>\n",
       "      <td>22.165178</td>\n",
       "      <td>1.701722</td>\n",
       "      <td>-1.998712</td>\n",
       "    </tr>\n",
       "  </tbody>\n",
       "</table>\n",
       "<p>111 rows × 3 columns</p>\n",
       "</div>"
      ],
      "text/plain": [
       "            y1         y2        y3\n",
       "0    15.082215  -5.248569  0.048376\n",
       "1    14.428133  17.671144  1.892574\n",
       "2    13.639695 -23.445469  1.156799\n",
       "3   -14.621491   0.000358  4.929759\n",
       "4    15.061054   1.235525  4.753541\n",
       "5    25.807668  -9.829462 -3.863466\n",
       "6    23.531258  10.713016 -2.285297\n",
       "7     6.219236  16.677622  3.517117\n",
       "8    -8.030760  19.209484 -0.108838\n",
       "9     3.667738 -12.163948 -2.651874\n",
       "10  -25.385887   6.921369 -0.923274\n",
       "11  -18.109585  -6.272211 -2.593582\n",
       "12   -7.415439  12.167604  7.005887\n",
       "13   -1.892957  -4.404403  1.694402\n",
       "14    6.662982  -2.197304  0.226222\n",
       "15  -19.011805  -8.906402  0.919327\n",
       "16   -3.696731  -8.084839 -3.063323\n",
       "17   -8.068619  -8.045960  2.773495\n",
       "18  -17.679583  -6.853342  1.101581\n",
       "19  -12.575708  16.784550  0.521026\n",
       "20    4.133068 -13.822580  0.358419\n",
       "21   -4.049510  -0.227776 -2.717663\n",
       "22  -14.537127  -3.968990 -4.846054\n",
       "23    2.794810   4.126051 -2.072995\n",
       "24   10.011944  -0.213646 -4.667042\n",
       "25    6.116435  20.334460  3.171829\n",
       "26   -0.660125  -6.717393 -0.263610\n",
       "27   -2.891440  21.818792  3.890964\n",
       "28  -18.544970  -2.712193  1.235653\n",
       "29   -2.316941   1.150433  3.075732\n",
       "..         ...        ...       ...\n",
       "81   -3.518928  -4.669416 -1.020607\n",
       "82   10.402309  16.726614 -2.195761\n",
       "83   19.102320   5.126239  2.626096\n",
       "84    3.132885  10.295284 -1.424803\n",
       "85   -8.971308  17.590611 -1.658669\n",
       "86  -22.682182   6.331654 -0.764240\n",
       "87   -3.129293 -16.021407  2.990539\n",
       "88   -1.259672  -6.353499 -5.644749\n",
       "89   -4.587775   4.464419  1.652787\n",
       "90  -14.305521  -1.540778  5.299388\n",
       "91   -4.211883 -23.413668 -0.983279\n",
       "92  -22.724123   5.064466  3.406509\n",
       "93    0.281244 -20.996964 -3.597579\n",
       "94  -21.806348   3.434910  3.004875\n",
       "95    2.510444 -20.181632  2.884877\n",
       "96   21.155656  -6.036555  2.464411\n",
       "97    2.510444 -20.181632  2.884877\n",
       "98    2.510444 -20.181632  2.884877\n",
       "99    2.510444 -20.181632  2.884877\n",
       "100   5.038344  -6.300189 -1.067100\n",
       "101 -29.002561   6.368195 -4.906125\n",
       "102 -15.073987  12.165706 -3.557411\n",
       "103  14.605300  13.288926 -2.474625\n",
       "104  16.589916 -11.271121 -4.816536\n",
       "105  20.693799  13.456612  0.029398\n",
       "106   4.654538   7.894375  5.374924\n",
       "107  -5.866806 -13.270626 -2.350050\n",
       "108 -10.408305   8.893657 -2.098407\n",
       "109  -4.366241 -12.467366  4.576693\n",
       "110  22.165178   1.701722 -1.998712\n",
       "\n",
       "[111 rows x 3 columns]"
      ]
     },
     "execution_count": 24,
     "metadata": {},
     "output_type": "execute_result"
    }
   ],
   "source": [
    "y_tot = pd.concat([xy_tot.pop(x) for x in ['y1', 'y2','y3']], 1)\n",
    "y_tot"
   ]
  },
  {
   "cell_type": "markdown",
   "metadata": {},
   "source": [
    "On génère des points d'échantillonnages suivant une distribution uniforme indépendante pour chaque variable - Les variables d'entrée du dataset sont normalisées entre 0 et 1"
   ]
  },
  {
   "cell_type": "code",
   "execution_count": 40,
   "metadata": {},
   "outputs": [],
   "source": [
    "distribution = ot.ComposedDistribution([ot.Uniform(0.0, 1.0)] * 11)\n",
    "dimension = distribution.getDimension()\n",
    "distribution.setDescription([\"Logive\", \"Rnez\", \"Lfente\", \"Pfente\", \"Dengin\", \"LBB\", \"Pos\",\"Fleche_BA\", \"Fleche_BF\", \"Corde\", \"H\"])"
   ]
  },
  {
   "cell_type": "code",
   "execution_count": 41,
   "metadata": {},
   "outputs": [
    {
     "data": {
      "text/plain": [
       "130000"
      ]
     },
     "execution_count": 41,
     "metadata": {},
     "output_type": "execute_result"
    }
   ],
   "source": [
    "ot.RandomGenerator.SetSeed(0)\n",
    "size = 10000\n",
    "inputDesign = ot.SobolIndicesExperiment(distribution, size, False).generate()\n",
    "inputDesign.getSize()"
   ]
  },
  {
   "cell_type": "markdown",
   "metadata": {},
   "source": [
    "**Explication cf site OpenTURNS** : Sensitivity algorithms rely on the definition of specific designs. The method generates designs that can be used for Saltelli, Jansen, Martinez and MauntzKucherenko methods. This precomputes such input designs using distribution or experiment by generating a MC sample of twice the dimension by duplicating the distribution into a 2d distribution with repeated marginals, in order to also work with non-iid samples such as those generated by LHSExperiment or LowDiscrepancyExperiment. The sampling is done according to the given experiment, then it is split into samples A and B and the columns of these ones are mixed to define the huge sample (design). If computeSecondOrder is set to False, the result design is of size N(d+2) where d is the dimension of the distribution. If computeSecondOrder is set to True, the design size is N(2d+2).\n"
   ]
  },
  {
   "cell_type": "markdown",
   "metadata": {},
   "source": [
    "=> Input pour pick and freeze"
   ]
  },
  {
   "cell_type": "markdown",
   "metadata": {},
   "source": [
    "On va calculer les indices en s'appuyant sur un métamodèle pour calculer les valeurs sur les points d'échantillonnage - ici modèle linéaire **avec interactions**"
   ]
  },
  {
   "cell_type": "code",
   "execution_count": 28,
   "metadata": {},
   "outputs": [],
   "source": [
    "import sklearn.linear_model as lm\n",
    "from sklearn.preprocessing import PolynomialFeatures"
   ]
  },
  {
   "cell_type": "code",
   "execution_count": 29,
   "metadata": {},
   "outputs": [],
   "source": [
    "interaction = PolynomialFeatures(degree=2, include_bias=False, interaction_only=True)\n",
    "X_inter = interaction.fit_transform(xy_tot)"
   ]
  },
  {
   "cell_type": "markdown",
   "metadata": {},
   "source": [
    "**On fitte un modèle linéaire avec interactions par composante**"
   ]
  },
  {
   "cell_type": "code",
   "execution_count": 30,
   "metadata": {},
   "outputs": [
    {
     "data": {
      "text/plain": [
       "LinearRegression(copy_X=True, fit_intercept=True, n_jobs=None,\n",
       "         normalize=False)"
      ]
     },
     "execution_count": 30,
     "metadata": {},
     "output_type": "execute_result"
    }
   ],
   "source": [
    "linreg1 = lm.LinearRegression()\n",
    "linreg1.fit(X_inter, y_tot['y1'])\n",
    "linreg2 = lm.LinearRegression()\n",
    "linreg2.fit(X_inter, y_tot['y2'])\n",
    "linreg3 = lm.LinearRegression()\n",
    "linreg3.fit(X_inter, y_tot['y3'])"
   ]
  },
  {
   "cell_type": "markdown",
   "metadata": {},
   "source": [
    "On vérifie la qualité des métamodèles"
   ]
  },
  {
   "cell_type": "code",
   "execution_count": 31,
   "metadata": {},
   "outputs": [
    {
     "name": "stdout",
     "output_type": "stream",
     "text": [
      "Populating the interactive namespace from numpy and matplotlib\n"
     ]
    },
    {
     "name": "stderr",
     "output_type": "stream",
     "text": [
      "D:\\slefebvr\\AppData\\Local\\Continuum\\anaconda3\\lib\\site-packages\\IPython\\core\\magics\\pylab.py:160: UserWarning: pylab import has clobbered these variables: ['size']\n",
      "`%matplotlib` prevents importing * from pylab and numpy\n",
      "  \"\\n`%matplotlib` prevents importing * from pylab and numpy\"\n"
     ]
    },
    {
     "data": {
      "text/plain": [
       "[<matplotlib.lines.Line2D at 0x5a0ef60>]"
      ]
     },
     "execution_count": 31,
     "metadata": {},
     "output_type": "execute_result"
    },
    {
     "data": {
      "image/png": "[encoded data removed]",
      "text/plain": [
       "<Figure size 432x288 with 1 Axes>"
      ]
     },
     "metadata": {
      "needs_background": "light"
     },
     "output_type": "display_data"
    }
   ],
   "source": [
    "import matplotlib.pyplot as plt\n",
    "%pylab inline\n",
    "plt.plot(y_tot['y1'],linreg1.predict(X_inter),'o')"
   ]
  },
  {
   "cell_type": "code",
   "execution_count": 32,
   "metadata": {},
   "outputs": [
    {
     "data": {
      "text/plain": [
       "[<matplotlib.lines.Line2D at 0x5a75668>]"
      ]
     },
     "execution_count": 32,
     "metadata": {},
     "output_type": "execute_result"
    },
    {
     "data": {
      "image/png": "[encoded data removed]",
      "text/plain": [
       "<Figure size 432x288 with 1 Axes>"
      ]
     },
     "metadata": {
      "needs_background": "light"
     },
     "output_type": "display_data"
    }
   ],
   "source": [
    "plt.plot(y_tot['y2'],linreg2.predict(X_inter),'o')"
   ]
  },
  {
   "cell_type": "code",
   "execution_count": 33,
   "metadata": {},
   "outputs": [
    {
     "data": {
      "text/plain": [
       "[<matplotlib.lines.Line2D at 0x5aca438>]"
      ]
     },
     "execution_count": 33,
     "metadata": {},
     "output_type": "execute_result"
    },
    {
     "data": {
      "image/png": "[encoded data removed]",
      "text/plain": [
       "<Figure size 432x288 with 1 Axes>"
      ]
     },
     "metadata": {
      "needs_background": "light"
     },
     "output_type": "display_data"
    }
   ],
   "source": [
    "plt.plot(y_tot['y3'],linreg3.predict(X_inter),'o')"
   ]
  },
  {
   "cell_type": "code",
   "execution_count": 34,
   "metadata": {},
   "outputs": [
    {
     "data": {
      "text/plain": [
       "0.970523264402092"
      ]
     },
     "execution_count": 34,
     "metadata": {},
     "output_type": "execute_result"
    }
   ],
   "source": [
    "linreg1.score(X_inter,y_tot['y1'])"
   ]
  },
  {
   "cell_type": "code",
   "execution_count": 35,
   "metadata": {},
   "outputs": [
    {
     "data": {
      "text/plain": [
       "0.9407882932205576"
      ]
     },
     "execution_count": 35,
     "metadata": {},
     "output_type": "execute_result"
    }
   ],
   "source": [
    "linreg2.score(X_inter,y_tot['y2'])"
   ]
  },
  {
   "cell_type": "code",
   "execution_count": 36,
   "metadata": {},
   "outputs": [
    {
     "data": {
      "text/plain": [
       "0.9790872580655986"
      ]
     },
     "execution_count": 36,
     "metadata": {},
     "output_type": "execute_result"
    }
   ],
   "source": [
    "linreg3.score(X_inter,y_tot['y3'])"
   ]
  },
  {
   "cell_type": "markdown",
   "metadata": {},
   "source": [
    "**On calcule les valeurs prédites pour les points d'échantillonnage**"
   ]
  },
  {
   "cell_type": "code",
   "execution_count": 44,
   "metadata": {},
   "outputs": [
    {
     "data": {
      "text/html": [
       "<TABLE><TR><TD></TD><TH>v0</TH><TH>v1</TH><TH>v2</TH></TR>\n",
       "<TR><TD>0</TD><TD>1.6771204800618236</TD><TD>12.104810013260131</TD><TD>2.775093285292856</TD></TR>\n",
       "<TR><TD>1</TD><TD>-15.416270356310243</TD><TD>8.020453912935634</TD><TD>-0.4322030856300816</TD></TR>\n",
       "<TR><TD>2</TD><TD>-7.844278030690038</TD><TD>-16.96565627134703</TD><TD>2.760556561215762</TD></TR>\n",
       "<TR><TD COLSPAN=\"4\">...</TD></TR>\n",
       "<TR><TD>129997</TD><TD>-7.5921460624118104</TD><TD>-6.387764075268305</TD><TD>-4.968140095566756</TD></TR>\n",
       "<TR><TD>129998</TD><TD>-21.08377688331342</TD><TD>-1.9316836128726529</TD><TD>-1.5772479814977491</TD></TR>\n",
       "<TR><TD>129999</TD><TD>-11.358797142268074</TD><TD>-15.992696470672959</TD><TD>-1.3014141235898067</TD></TR>\n",
       "</TABLE>"
      ],
      "text/plain": [
       "class=Sample name=Unnamed implementation=class=SampleImplementation name=Unnamed size=130000 dimension=3 data=[[1.67712,12.1048,2.77509],[-15.4163,8.02045,-0.432203],[-7.84428,-16.9657,2.76056],...,[-7.59215,-6.38776,-4.96814],[-21.0838,-1.93168,-1.57725],[-11.3588,-15.9927,-1.30141]]"
      ]
     },
     "execution_count": 44,
     "metadata": {},
     "output_type": "execute_result"
    }
   ],
   "source": [
    "inputDesignb = interaction.fit_transform(inputDesign)\n",
    "\n",
    "outputDesign=np.zeros((np.shape(inputDesignb)[0],3))\n",
    "outputDesign[:,0] = linreg1.predict(inputDesignb)\n",
    "outputDesign[:,1] = linreg2.predict(inputDesignb)\n",
    "outputDesign[:,2] = linreg3.predict(inputDesignb)\n",
    "\n",
    "outputDesign=ot.Sample(outputDesign)\n",
    "outputDesign"
   ]
  },
  {
   "cell_type": "markdown",
   "metadata": {},
   "source": [
    "**On calcule les indices de sensibilité principaux et totaux et les IC associés avec méthode de Martinez pour la première composante**"
   ]
  },
  {
   "cell_type": "code",
   "execution_count": 49,
   "metadata": {
    "scrolled": true
   },
   "outputs": [],
   "source": [
    "sensitivityAnalysis = ot.MartinezSensitivityAlgorithm(inputDesign, outputDesign.getMarginal([0]), size)\n",
    "first_indice = sensitivityAnalysis.getFirstOrderIndices()\n",
    "total_indice = sensitivityAnalysis.getTotalOrderIndices()\n",
    "first_indiceIC = sensitivityAnalysis.getFirstOrderIndicesInterval()\n",
    "total_indiceIC = sensitivityAnalysis.getTotalOrderIndicesInterval()\n"
   ]
  },
  {
   "cell_type": "code",
   "execution_count": 50,
   "metadata": {},
   "outputs": [
    {
     "name": "stdout",
     "output_type": "stream",
     "text": [
      "[0.022531,-0.014248,-0.0140205,-0.0133593,-0.0112318,0.473554,-0.00514327,0.053375,-0.00422653,0.0730302,0.261011]#11\n",
      "[0.0447973,0.0156877,0.00125672,0.00597272,0.00910463,0.491434,0.0130709,0.0731795,0.0187353,0.102983,0.282423]#11\n",
      "[-0.00362633, 0.0511675]\r\n",
      "[-0.0403448, 0.013441]\r\n",
      "[-0.0397471, 0.0145382]\r\n",
      "[-0.0399834, 0.0158928]\r\n",
      "[-0.0369565, 0.0174665]\r\n",
      "[0.458316, 0.490683]\r\n",
      "[-0.0314687, 0.0235698]\r\n",
      "[0.0269822, 0.0831845]\r\n",
      "[-0.0286239, 0.0241535]\r\n",
      "[0.0467216, 0.100089]\r\n",
      "[0.238961, 0.285468]\n",
      "[0.00713554, 0.0788377]\r\n",
      "[-0.0207349, 0.0484394]\r\n",
      "[-0.0347452, 0.0336933]\r\n",
      "[-0.0301216, 0.0385198]\r\n",
      "[-0.0270781, 0.0416894]\r\n",
      "[0.443573, 0.53358]\r\n",
      "[-0.0231046, 0.0457388]\r\n",
      "[0.0352261, 0.107525]\r\n",
      "[-0.017991, 0.0518217]\r\n",
      "[0.0634457, 0.139347]\r\n",
      "[0.239404, 0.320748]\n"
     ]
    }
   ],
   "source": [
    "print(first_indice)\n",
    "print(total_indice)\n",
    "print(first_indiceIC)\n",
    "print(total_indiceIC)"
   ]
  },
  {
   "cell_type": "code",
   "execution_count": 51,
   "metadata": {},
   "outputs": [
    {
     "data": {
      "image/png": "[encoded data removed]",
      "text/plain": [
       "class=Graph name=Sobol' indices implementation=class=GraphImplementation name=Sobol' indices title=Sobol' indices - MartinezSensitivityAlgorithm xTitle=inputs yTitle=index value axes=ON grid=ON legendposition=topright legendFontSize=1 drawables=[class=Drawable name=First order implementation=class=Cloud name=First order derived from class=DrawableImplementation name=First order legend=First order data=class=Sample name=Unnamed implementation=class=SampleImplementation name=Unnamed size=11 dimension=2 data=[[1,0.022531],[2,-0.014248],[3,-0.0140205],[4,-0.0133593],[5,-0.0112318],[6,0.473554],[7,-0.00514327],[8,0.053375],[9,-0.00422653],[10,0.0730302],[11,0.261011]] color=red fillStyle=solid lineStyle=solid pointStyle=circle lineWidth=1,class=Drawable name=Total order implementation=class=Cloud name=Total order derived from class=DrawableImplementation name=Total order legend=Total order data=class=Sample name=Unnamed implementation=class=SampleImplementation name=Unnamed size=11 dimension=2 data=[[1.275,0.0447973],[2.275,0.0156877],[3.275,0.00125672],[4.275,0.00597272],[5.275,0.00910463],[6.275,0.491434],[7.275,0.0130709],[8.275,0.0731795],[9.275,0.0187353],[10.275,0.102983],[11.275,0.282423]] color=blue fillStyle=solid lineStyle=solid pointStyle=square lineWidth=1,class=Drawable name=Unnamed implementation=class=Text name=Unnamed derived from class=DrawableImplementation name=Unnamed legend= data=class=Sample name=Unnamed implementation=class=SampleImplementation name=Unnamed size=11 dimension=2 data=[[1.55,0.0336642],[2.55,0.000719867],[3.55,-0.00638191],[4.55,-0.00369329],[5.55,-0.00106359],[6.55,0.482494],[7.55,0.00396383],[8.55,0.0632773],[9.55,0.00725437],[10.55,0.0880065],[11.55,0.271717]] color=black fillStyle=solid lineStyle=solid pointStyle=plus lineWidth=1,class=Drawable name=Unnamed implementation=class=Curve name=Unnamed derived from class=DrawableImplementation name=Unnamed legend= data=class=Sample name=Unnamed implementation=class=SampleImplementation name=Unnamed size=2 dimension=2 data=[[1,-0.00362633],[1,0.0511675]] color=red fillStyle=solid lineStyle=solid pointStyle=none lineWidth=2,class=Drawable name=Unnamed implementation=class=Curve name=Unnamed derived from class=DrawableImplementation name=Unnamed legend= data=class=Sample name=Unnamed implementation=class=SampleImplementation name=Unnamed size=2 dimension=2 data=[[1.275,0.00713554],[1.275,0.0788377]] color=blue fillStyle=solid lineStyle=solid pointStyle=none lineWidth=2,class=Drawable name=Unnamed implementation=class=Curve name=Unnamed derived from class=DrawableImplementation name=Unnamed legend= data=class=Sample name=Unnamed implementation=class=SampleImplementation name=Unnamed size=2 dimension=2 data=[[2,-0.0403448],[2,0.013441]] color=red fillStyle=solid lineStyle=solid pointStyle=none lineWidth=2,class=Drawable name=Unnamed implementation=class=Curve name=Unnamed derived from class=DrawableImplementation name=Unnamed legend= data=class=Sample name=Unnamed implementation=class=SampleImplementation name=Unnamed size=2 dimension=2 data=[[2.275,-0.0207349],[2.275,0.0484394]] color=blue fillStyle=solid lineStyle=solid pointStyle=none lineWidth=2,class=Drawable name=Unnamed implementation=class=Curve name=Unnamed derived from class=DrawableImplementation name=Unnamed legend= data=class=Sample name=Unnamed implementation=class=SampleImplementation name=Unnamed size=2 dimension=2 data=[[3,-0.0397471],[3,0.0145382]] color=red fillStyle=solid lineStyle=solid pointStyle=none lineWidth=2,class=Drawable name=Unnamed implementation=class=Curve name=Unnamed derived from class=DrawableImplementation name=Unnamed legend= data=class=Sample name=Unnamed implementation=class=SampleImplementation name=Unnamed size=2 dimension=2 data=[[3.275,-0.0347452],[3.275,0.0336933]] color=blue fillStyle=solid lineStyle=solid pointStyle=none lineWidth=2,class=Drawable name=Unnamed implementation=class=Curve name=Unnamed derived from class=DrawableImplementation name=Unnamed legend= data=class=Sample name=Unnamed implementation=class=SampleImplementation name=Unnamed size=2 dimension=2 data=[[4,-0.0399834],[4,0.0158928]] color=red fillStyle=solid lineStyle=solid pointStyle=none lineWidth=2,class=Drawable name=Unnamed implementation=class=Curve name=Unnamed derived from class=DrawableImplementation name=Unnamed legend= data=class=Sample name=Unnamed implementation=class=SampleImplementation name=Unnamed size=2 dimension=2 data=[[4.275,-0.0301216],[4.275,0.0385198]] color=blue fillStyle=solid lineStyle=solid pointStyle=none lineWidth=2,class=Drawable name=Unnamed implementation=class=Curve name=Unnamed derived from class=DrawableImplementation name=Unnamed legend= data=class=Sample name=Unnamed implementation=class=SampleImplementation name=Unnamed size=2 dimension=2 data=[[5,-0.0369565],[5,0.0174665]] color=red fillStyle=solid lineStyle=solid pointStyle=none lineWidth=2,class=Drawable name=Unnamed implementation=class=Curve name=Unnamed derived from class=DrawableImplementation name=Unnamed legend= data=class=Sample name=Unnamed implementation=class=SampleImplementation name=Unnamed size=2 dimension=2 data=[[5.275,-0.0270781],[5.275,0.0416894]] color=blue fillStyle=solid lineStyle=solid pointStyle=none lineWidth=2,class=Drawable name=Unnamed implementation=class=Curve name=Unnamed derived from class=DrawableImplementation name=Unnamed legend= data=class=Sample name=Unnamed implementation=class=SampleImplementation name=Unnamed size=2 dimension=2 data=[[6,0.458316],[6,0.490683]] color=red fillStyle=solid lineStyle=solid pointStyle=none lineWidth=2,class=Drawable name=Unnamed implementation=class=Curve name=Unnamed derived from class=DrawableImplementation name=Unnamed legend= data=class=Sample name=Unnamed implementation=class=SampleImplementation name=Unnamed size=2 dimension=2 data=[[6.275,0.443573],[6.275,0.53358]] color=blue fillStyle=solid lineStyle=solid pointStyle=none lineWidth=2,class=Drawable name=Unnamed implementation=class=Curve name=Unnamed derived from class=DrawableImplementation name=Unnamed legend= data=class=Sample name=Unnamed implementation=class=SampleImplementation name=Unnamed size=2 dimension=2 data=[[7,-0.0314687],[7,0.0235698]] color=red fillStyle=solid lineStyle=solid pointStyle=none lineWidth=2,class=Drawable name=Unnamed implementation=class=Curve name=Unnamed derived from class=DrawableImplementation name=Unnamed legend= data=class=Sample name=Unnamed implementation=class=SampleImplementation name=Unnamed size=2 dimension=2 data=[[7.275,-0.0231046],[7.275,0.0457388]] color=blue fillStyle=solid lineStyle=solid pointStyle=none lineWidth=2,class=Drawable name=Unnamed implementation=class=Curve name=Unnamed derived from class=DrawableImplementation name=Unnamed legend= data=class=Sample name=Unnamed implementation=class=SampleImplementation name=Unnamed size=2 dimension=2 data=[[8,0.0269822],[8,0.0831845]] color=red fillStyle=solid lineStyle=solid pointStyle=none lineWidth=2,class=Drawable name=Unnamed implementation=class=Curve name=Unnamed derived from class=DrawableImplementation name=Unnamed legend= data=class=Sample name=Unnamed implementation=class=SampleImplementation name=Unnamed size=2 dimension=2 data=[[8.275,0.0352261],[8.275,0.107525]] color=blue fillStyle=solid lineStyle=solid pointStyle=none lineWidth=2,class=Drawable name=Unnamed implementation=class=Curve name=Unnamed derived from class=DrawableImplementation name=Unnamed legend= data=class=Sample name=Unnamed implementation=class=SampleImplementation name=Unnamed size=2 dimension=2 data=[[9,-0.0286239],[9,0.0241535]] color=red fillStyle=solid lineStyle=solid pointStyle=none lineWidth=2,class=Drawable name=Unnamed implementation=class=Curve name=Unnamed derived from class=DrawableImplementation name=Unnamed legend= data=class=Sample name=Unnamed implementation=class=SampleImplementation name=Unnamed size=2 dimension=2 data=[[9.275,-0.017991],[9.275,0.0518217]] color=blue fillStyle=solid lineStyle=solid pointStyle=none lineWidth=2,class=Drawable name=Unnamed implementation=class=Curve name=Unnamed derived from class=DrawableImplementation name=Unnamed legend= data=class=Sample name=Unnamed implementation=class=SampleImplementation name=Unnamed size=2 dimension=2 data=[[10,0.0467216],[10,0.100089]] color=red fillStyle=solid lineStyle=solid pointStyle=none lineWidth=2,class=Drawable name=Unnamed implementation=class=Curve name=Unnamed derived from class=DrawableImplementation name=Unnamed legend= data=class=Sample name=Unnamed implementation=class=SampleImplementation name=Unnamed size=2 dimension=2 data=[[10.275,0.0634457],[10.275,0.139347]] color=blue fillStyle=solid lineStyle=solid pointStyle=none lineWidth=2,class=Drawable name=Unnamed implementation=class=Curve name=Unnamed derived from class=DrawableImplementation name=Unnamed legend= data=class=Sample name=Unnamed implementation=class=SampleImplementation name=Unnamed size=2 dimension=2 data=[[11,0.238961],[11,0.285468]] color=red fillStyle=solid lineStyle=solid pointStyle=none lineWidth=2,class=Drawable name=Unnamed implementation=class=Curve name=Unnamed derived from class=DrawableImplementation name=Unnamed legend= data=class=Sample name=Unnamed implementation=class=SampleImplementation name=Unnamed size=2 dimension=2 data=[[11.275,0.239404],[11.275,0.320748]] color=blue fillStyle=solid lineStyle=solid pointStyle=none lineWidth=2]"
      ]
     },
     "execution_count": 51,
     "metadata": {},
     "output_type": "execute_result"
    }
   ],
   "source": [
    "sensitivityAnalysis.draw()"
   ]
  },
  {
   "cell_type": "markdown",
   "metadata": {},
   "source": [
    "Analyse par composante"
   ]
  },
  {
   "cell_type": "code",
   "execution_count": 52,
   "metadata": {},
   "outputs": [],
   "source": [
    "for j in range(1,3):\n",
    "    sensitivityAnalysisb = ot.MartinezSensitivityAlgorithm(inputDesign, outputDesign.getMarginal([j]), size)\n",
    "    bb = sensitivityAnalysisb.getFirstOrderIndices()\n",
    "    tt = sensitivityAnalysisb.getTotalOrderIndices()\n",
    "    first_indice=np.vstack((first_indice,bb))\n",
    "    total_indice=np.vstack((total_indice,tt))\n"
   ]
  },
  {
   "cell_type": "markdown",
   "metadata": {},
   "source": [
    "Tracés"
   ]
  },
  {
   "cell_type": "code",
   "execution_count": 53,
   "metadata": {},
   "outputs": [],
   "source": [
    "variables = [\"Logive\", \"Rnez\", \"Lfente\", \"Pfente\", \"Dengin\", \"LBB\", \"Pos\",\"Fleche_BA\", \"Fleche_BF\", \"Corde\", \"H\"]\n",
    "xxx = np.arange(len(variables))  # the label locations\n",
    "width = 0.2  # the width of the bars\n"
   ]
  },
  {
   "cell_type": "code",
   "execution_count": 54,
   "metadata": {},
   "outputs": [
    {
     "data": {
      "text/plain": [
       "<matplotlib.legend.Legend at 0x7132160>"
      ]
     },
     "execution_count": 54,
     "metadata": {},
     "output_type": "execute_result"
    },
    {
     "data": {
      "image/png": "[encoded data removed]",
      "text/plain": [
       "<Figure size 432x288 with 1 Axes>"
      ]
     },
     "metadata": {
      "needs_background": "light"
     },
     "output_type": "display_data"
    }
   ],
   "source": [
    "fig, ax = plt.subplots()\n",
    "rects1 = ax.bar(xxx - width, first_indice[0,:], width, color='red',label='Composante1')\n",
    "rects2 = ax.bar(xxx , first_indice[1,:], width, color='blue',label='Composante2')\n",
    "rects3 = ax.bar(xxx + width, first_indice[2,:], width, color='green',label='Composante3')\n",
    "\n",
    "# Add some text for labels, title and custom x-axis tick labels, etc.\n",
    "ax.set_ylabel('Indices Principaux')\n",
    "ax.set_xticks(xxx)\n",
    "ax.set_xticklabels(variables)\n",
    "ax.legend()"
   ]
  },
  {
   "cell_type": "code",
   "execution_count": 55,
   "metadata": {},
   "outputs": [
    {
     "data": {
      "text/plain": [
       "<matplotlib.legend.Legend at 0x6ff3ac8>"
      ]
     },
     "execution_count": 55,
     "metadata": {},
     "output_type": "execute_result"
    },
    {
     "data": {
      "image/png": "[encoded data removed]",
      "text/plain": [
       "<Figure size 432x288 with 1 Axes>"
      ]
     },
     "metadata": {
      "needs_background": "light"
     },
     "output_type": "display_data"
    }
   ],
   "source": [
    "fig, ax = plt.subplots()\n",
    "rects1 = ax.bar(xxx - width, total_indice[0,:], width, color='red',label='Composante1')\n",
    "rects2 = ax.bar(xxx , total_indice[1,:], width, color='blue',label='Composante2')\n",
    "rects3 = ax.bar(xxx + width, total_indice[2,:], width, color='green',label='Composante3')\n",
    "\n",
    "# Add some text for labels, title and custom x-axis tick labels, etc.\n",
    "ax.set_ylabel('Indices Totaux')\n",
    "ax.set_xticks(xxx)\n",
    "ax.set_xticklabels(variables)\n",
    "ax.legend()"
   ]
  },
  {
   "cell_type": "code",
   "execution_count": null,
   "metadata": {},
   "outputs": [],
   "source": []
  },
  {
   "cell_type": "markdown",
   "metadata": {},
   "source": [
    "**Analyse globale des 3 composantes**"
   ]
  },
  {
   "cell_type": "code",
   "execution_count": 45,
   "metadata": {},
   "outputs": [],
   "source": [
    "sensitivity_algorithm = ot.MartinezSensitivityAlgorithm(inputDesign, outputDesign, size)"
   ]
  },
  {
   "cell_type": "code",
   "execution_count": 46,
   "metadata": {},
   "outputs": [
    {
     "name": "stdout",
     "output_type": "stream",
     "text": [
      "[0.0151212,-0.00854355,-0.0104087,-0.0103765,0.0269986,0.416756,-0.00412585,0.0667961,-0.0041967,0.112802,0.200923]#11\n",
      "[0.052845,0.0354414,0.0161217,0.0124949,0.0498801,0.44153,0.0121907,0.088794,0.0367803,0.138965,0.223261]#11\n"
     ]
    }
   ],
   "source": [
    "first_indiceag = sensitivity_algorithm.getAggregatedFirstOrderIndices()\n",
    "total_indiceag = sensitivity_algorithm.getAggregatedTotalOrderIndices()\n",
    "print(first_indiceag)\n",
    "print(total_indiceag)"
   ]
  },
  {
   "cell_type": "markdown",
   "metadata": {},
   "source": [
    "Calcul d'intervalles de confiance par bootstrap"
   ]
  },
  {
   "cell_type": "code",
   "execution_count": 47,
   "metadata": {},
   "outputs": [
    {
     "name": "stdout",
     "output_type": "stream",
     "text": [
      "bootstrap intervals\n",
      "Aggregated first order indices interval =  [0.000485531, 0.0316246]\r\n",
      "[-0.0216779, 0.00777879]\r\n",
      "[-0.0255241, 0.00685635]\r\n",
      "[-0.0243284, 0.00529372]\r\n",
      "[0.0127793, 0.0424943]\r\n",
      "[0.404473, 0.429184]\r\n",
      "[-0.0184751, 0.0118536]\r\n",
      "[0.0514209, 0.0826996]\r\n",
      "[-0.0181709, 0.0119058]\r\n",
      "[0.097363, 0.129848]\r\n",
      "[0.186451, 0.215046]\n",
      "Aggregated total order indices interval =  [0.0312872, 0.0751415]\r\n",
      "[0.0146074, 0.0569762]\r\n",
      "[-0.00419293, 0.0372693]\r\n",
      "[-0.00810707, 0.0338856]\r\n",
      "[0.0284013, 0.0721448]\r\n",
      "[0.414704, 0.470352]\r\n",
      "[-0.00845482, 0.033557]\r\n",
      "[0.0661098, 0.111047]\r\n",
      "[0.0155382, 0.0585029]\r\n",
      "[0.116569, 0.161467]\r\n",
      "[0.199397, 0.248199]\n"
     ]
    }
   ],
   "source": [
    "nr_bootstrap = 100\n",
    "confidence_level = 0.95\n",
    "\n",
    "sensitivity_algorithm.setBootstrapSize(nr_bootstrap)\n",
    "sensitivity_algorithm.setConfidenceLevel(confidence_level)\n",
    "sensitivity_algorithm.setUseAsymptoticDistribution(False)\n",
    "interval_fo = sensitivity_algorithm.getFirstOrderIndicesInterval()\n",
    "interval_to = sensitivity_algorithm.getTotalOrderIndicesInterval()\n",
    "print(\"bootstrap intervals\")\n",
    "print(\"Aggregated first order indices interval = \", interval_fo)\n",
    "print(\"Aggregated total order indices interval = \", interval_to)"
   ]
  },
  {
   "cell_type": "markdown",
   "metadata": {},
   "source": [
    "Plot"
   ]
  },
  {
   "cell_type": "code",
   "execution_count": 48,
   "metadata": {},
   "outputs": [
    {
     "data": {
      "image/png": "[encoded data removed]",
      "text/plain": [
       "class=Graph name=Sobol' indices implementation=class=GraphImplementation name=Sobol' indices title=Aggregated Sobol' indices - MartinezSensitivityAlgorithm xTitle=inputs yTitle=index value axes=ON grid=ON legendposition=topright legendFontSize=1 drawables=[class=Drawable name=First order implementation=class=Cloud name=First order derived from class=DrawableImplementation name=First order legend=First order data=class=Sample name=Unnamed implementation=class=SampleImplementation name=Unnamed size=11 dimension=2 data=[[1,0.0151212],[2,-0.00854355],[3,-0.0104087],[4,-0.0103765],[5,0.0269986],[6,0.416756],[7,-0.00412585],[8,0.0667961],[9,-0.0041967],[10,0.112802],[11,0.200923]] color=red fillStyle=solid lineStyle=solid pointStyle=circle lineWidth=1,class=Drawable name=Total order implementation=class=Cloud name=Total order derived from class=DrawableImplementation name=Total order legend=Total order data=class=Sample name=Unnamed implementation=class=SampleImplementation name=Unnamed size=11 dimension=2 data=[[1.275,0.052845],[2.275,0.0354414],[3.275,0.0161217],[4.275,0.0124949],[5.275,0.0498801],[6.275,0.44153],[7.275,0.0121907],[8.275,0.088794],[9.275,0.0367803],[10.275,0.138965],[11.275,0.223261]] color=blue fillStyle=solid lineStyle=solid pointStyle=square lineWidth=1,class=Drawable name=Unnamed implementation=class=Text name=Unnamed derived from class=DrawableImplementation name=Unnamed legend= data=class=Sample name=Unnamed implementation=class=SampleImplementation name=Unnamed size=11 dimension=2 data=[[1.55,0.0339831],[2.55,0.0134489],[3.55,0.0028565],[4.55,0.00105924],[5.55,0.0384394],[6.55,0.429143],[7.55,0.00403243],[8.55,0.0777951],[9.55,0.0162918],[10.55,0.125883],[11.55,0.212092]] color=black fillStyle=solid lineStyle=solid pointStyle=plus lineWidth=1,class=Drawable name=Unnamed implementation=class=Curve name=Unnamed derived from class=DrawableImplementation name=Unnamed legend= data=class=Sample name=Unnamed implementation=class=SampleImplementation name=Unnamed size=2 dimension=2 data=[[1,0.000485531],[1,0.0316246]] color=red fillStyle=solid lineStyle=solid pointStyle=none lineWidth=2,class=Drawable name=Unnamed implementation=class=Curve name=Unnamed derived from class=DrawableImplementation name=Unnamed legend= data=class=Sample name=Unnamed implementation=class=SampleImplementation name=Unnamed size=2 dimension=2 data=[[1.275,0.0312872],[1.275,0.0751415]] color=blue fillStyle=solid lineStyle=solid pointStyle=none lineWidth=2,class=Drawable name=Unnamed implementation=class=Curve name=Unnamed derived from class=DrawableImplementation name=Unnamed legend= data=class=Sample name=Unnamed implementation=class=SampleImplementation name=Unnamed size=2 dimension=2 data=[[2,-0.0216779],[2,0.00777879]] color=red fillStyle=solid lineStyle=solid pointStyle=none lineWidth=2,class=Drawable name=Unnamed implementation=class=Curve name=Unnamed derived from class=DrawableImplementation name=Unnamed legend= data=class=Sample name=Unnamed implementation=class=SampleImplementation name=Unnamed size=2 dimension=2 data=[[2.275,0.0146074],[2.275,0.0569762]] color=blue fillStyle=solid lineStyle=solid pointStyle=none lineWidth=2,class=Drawable name=Unnamed implementation=class=Curve name=Unnamed derived from class=DrawableImplementation name=Unnamed legend= data=class=Sample name=Unnamed implementation=class=SampleImplementation name=Unnamed size=2 dimension=2 data=[[3,-0.0255241],[3,0.00685635]] color=red fillStyle=solid lineStyle=solid pointStyle=none lineWidth=2,class=Drawable name=Unnamed implementation=class=Curve name=Unnamed derived from class=DrawableImplementation name=Unnamed legend= data=class=Sample name=Unnamed implementation=class=SampleImplementation name=Unnamed size=2 dimension=2 data=[[3.275,-0.00419293],[3.275,0.0372693]] color=blue fillStyle=solid lineStyle=solid pointStyle=none lineWidth=2,class=Drawable name=Unnamed implementation=class=Curve name=Unnamed derived from class=DrawableImplementation name=Unnamed legend= data=class=Sample name=Unnamed implementation=class=SampleImplementation name=Unnamed size=2 dimension=2 data=[[4,-0.0243284],[4,0.00529372]] color=red fillStyle=solid lineStyle=solid pointStyle=none lineWidth=2,class=Drawable name=Unnamed implementation=class=Curve name=Unnamed derived from class=DrawableImplementation name=Unnamed legend= data=class=Sample name=Unnamed implementation=class=SampleImplementation name=Unnamed size=2 dimension=2 data=[[4.275,-0.00810707],[4.275,0.0338856]] color=blue fillStyle=solid lineStyle=solid pointStyle=none lineWidth=2,class=Drawable name=Unnamed implementation=class=Curve name=Unnamed derived from class=DrawableImplementation name=Unnamed legend= data=class=Sample name=Unnamed implementation=class=SampleImplementation name=Unnamed size=2 dimension=2 data=[[5,0.0127793],[5,0.0424943]] color=red fillStyle=solid lineStyle=solid pointStyle=none lineWidth=2,class=Drawable name=Unnamed implementation=class=Curve name=Unnamed derived from class=DrawableImplementation name=Unnamed legend= data=class=Sample name=Unnamed implementation=class=SampleImplementation name=Unnamed size=2 dimension=2 data=[[5.275,0.0284013],[5.275,0.0721448]] color=blue fillStyle=solid lineStyle=solid pointStyle=none lineWidth=2,class=Drawable name=Unnamed implementation=class=Curve name=Unnamed derived from class=DrawableImplementation name=Unnamed legend= data=class=Sample name=Unnamed implementation=class=SampleImplementation name=Unnamed size=2 dimension=2 data=[[6,0.404473],[6,0.429184]] color=red fillStyle=solid lineStyle=solid pointStyle=none lineWidth=2,class=Drawable name=Unnamed implementation=class=Curve name=Unnamed derived from class=DrawableImplementation name=Unnamed legend= data=class=Sample name=Unnamed implementation=class=SampleImplementation name=Unnamed size=2 dimension=2 data=[[6.275,0.414704],[6.275,0.470352]] color=blue fillStyle=solid lineStyle=solid pointStyle=none lineWidth=2,class=Drawable name=Unnamed implementation=class=Curve name=Unnamed derived from class=DrawableImplementation name=Unnamed legend= data=class=Sample name=Unnamed implementation=class=SampleImplementation name=Unnamed size=2 dimension=2 data=[[7,-0.0184751],[7,0.0118536]] color=red fillStyle=solid lineStyle=solid pointStyle=none lineWidth=2,class=Drawable name=Unnamed implementation=class=Curve name=Unnamed derived from class=DrawableImplementation name=Unnamed legend= data=class=Sample name=Unnamed implementation=class=SampleImplementation name=Unnamed size=2 dimension=2 data=[[7.275,-0.00845482],[7.275,0.033557]] color=blue fillStyle=solid lineStyle=solid pointStyle=none lineWidth=2,class=Drawable name=Unnamed implementation=class=Curve name=Unnamed derived from class=DrawableImplementation name=Unnamed legend= data=class=Sample name=Unnamed implementation=class=SampleImplementation name=Unnamed size=2 dimension=2 data=[[8,0.0514209],[8,0.0826996]] color=red fillStyle=solid lineStyle=solid pointStyle=none lineWidth=2,class=Drawable name=Unnamed implementation=class=Curve name=Unnamed derived from class=DrawableImplementation name=Unnamed legend= data=class=Sample name=Unnamed implementation=class=SampleImplementation name=Unnamed size=2 dimension=2 data=[[8.275,0.0661098],[8.275,0.111047]] color=blue fillStyle=solid lineStyle=solid pointStyle=none lineWidth=2,class=Drawable name=Unnamed implementation=class=Curve name=Unnamed derived from class=DrawableImplementation name=Unnamed legend= data=class=Sample name=Unnamed implementation=class=SampleImplementation name=Unnamed size=2 dimension=2 data=[[9,-0.0181709],[9,0.0119058]] color=red fillStyle=solid lineStyle=solid pointStyle=none lineWidth=2,class=Drawable name=Unnamed implementation=class=Curve name=Unnamed derived from class=DrawableImplementation name=Unnamed legend= data=class=Sample name=Unnamed implementation=class=SampleImplementation name=Unnamed size=2 dimension=2 data=[[9.275,0.0155382],[9.275,0.0585029]] color=blue fillStyle=solid lineStyle=solid pointStyle=none lineWidth=2,class=Drawable name=Unnamed implementation=class=Curve name=Unnamed derived from class=DrawableImplementation name=Unnamed legend= data=class=Sample name=Unnamed implementation=class=SampleImplementation name=Unnamed size=2 dimension=2 data=[[10,0.097363],[10,0.129848]] color=red fillStyle=solid lineStyle=solid pointStyle=none lineWidth=2,class=Drawable name=Unnamed implementation=class=Curve name=Unnamed derived from class=DrawableImplementation name=Unnamed legend= data=class=Sample name=Unnamed implementation=class=SampleImplementation name=Unnamed size=2 dimension=2 data=[[10.275,0.116569],[10.275,0.161467]] color=blue fillStyle=solid lineStyle=solid pointStyle=none lineWidth=2,class=Drawable name=Unnamed implementation=class=Curve name=Unnamed derived from class=DrawableImplementation name=Unnamed legend= data=class=Sample name=Unnamed implementation=class=SampleImplementation name=Unnamed size=2 dimension=2 data=[[11,0.186451],[11,0.215046]] color=red fillStyle=solid lineStyle=solid pointStyle=none lineWidth=2,class=Drawable name=Unnamed implementation=class=Curve name=Unnamed derived from class=DrawableImplementation name=Unnamed legend= data=class=Sample name=Unnamed implementation=class=SampleImplementation name=Unnamed size=2 dimension=2 data=[[11.275,0.199397],[11.275,0.248199]] color=blue fillStyle=solid lineStyle=solid pointStyle=none lineWidth=2]"
      ]
     },
     "execution_count": 48,
     "metadata": {},
     "output_type": "execute_result"
    }
   ],
   "source": [
    "graph = sensitivity_algorithm.draw()\n",
    "graph"
   ]
  },
  {
   "cell_type": "code",
   "execution_count": null,
   "metadata": {},
   "outputs": [],
   "source": []
  }
 ],
 "metadata": {
  "kernelspec": {
   "display_name": "Python 3",
   "language": "python",
   "name": "python3"
  },
  "language_info": {
   "codemirror_mode": {
    "name": "ipython",
    "version": 3
   },
   "file_extension": ".py",
   "mimetype": "text/x-python",
   "name": "python",
   "nbconvert_exporter": "python",
   "pygments_lexer": "ipython3",
   "version": "3.6.8"
  }
 },
 "nbformat": 4,
 "nbformat_minor": 2
}
