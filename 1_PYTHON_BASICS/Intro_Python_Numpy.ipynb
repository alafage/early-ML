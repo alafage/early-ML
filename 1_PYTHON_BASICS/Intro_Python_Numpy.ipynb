{
  "nbformat": 4,
  "nbformat_minor": 0,
  "metadata": {
    "colab": {
      "name": "Intro_Python_Numpy.ipynb",
      "provenance": []
    },
    "kernelspec": {
      "display_name": "Python 3",
      "language": "python",
      "name": "python3"
    },
    "language_info": {
      "codemirror_mode": {
        "name": "ipython",
        "version": 3
      },
      "file_extension": ".py",
      "mimetype": "text/x-python",
      "name": "python",
      "nbconvert_exporter": "python",
      "pygments_lexer": "ipython3",
      "version": "3.7.1"
    }
  },
  "cells": [
    {
      "cell_type": "markdown",
      "metadata": {
        "colab_type": "text",
        "id": "ZbrynZlnIjeU"
      },
      "source": [
        "# Introduction au calcul avec Python et les packages numpy et scipy"
      ]
    },
    {
      "cell_type": "markdown",
      "metadata": {
        "colab_type": "text",
        "id": "n9kcTASzIjeW"
      },
      "source": [
        "## Python pour le calcul scientifique"
      ]
    },
    {
      "cell_type": "markdown",
      "metadata": {
        "colab_type": "text",
        "id": "gA9-4y4rIjeX"
      },
      "source": [
        "Le langage de programmation `Python` est généralement considéré comme un langage simple d'utilisation et d'apprentissage permettant néanmoins d'utiliser des concepts avancés de programmation (e.g la conception orienté objet). Par ailleurs, l'utilisation de certains modules orienté calcul numérique (comme `numpy`, `scipy` ou encore `statsmodels`) ont permis d'utiliser `Python` pour effectuer des manipulations et des calculs avancés sur des tableaux de nombres. Néanmoins, `python` n'est pas réellement considéré comme un langage performant en terme d'utilisation de la mémoire et de calcul, essentiellement car c'est un langage interprété. De manière similaire à Matlab ou R, `python` permet une utilisation façon calculateur avancé où il n'est pas nécessaire de typer les variables ou d'allouer la mémoire (comme on le ferait en `C` ou `C++`). Sa grande force réside dans sa facilité d'utilisation et sa grande versatilité permettant d'écrire des codes rapides dans un grand nombre de styles de programmation."
      ]
    },
    {
      "cell_type": "markdown",
      "metadata": {
        "colab_type": "text",
        "id": "pLRanpYWIjeY"
      },
      "source": [
        "A titre d'exemple, considérons la fonction suivante (dite de Hankel)"
      ]
    },
    {
      "cell_type": "markdown",
      "metadata": {
        "colab_type": "text",
        "id": "yVLs8TCZIjeZ"
      },
      "source": [
        "$$H^{(1)}_v(z) = \\frac{2}{\\imath\\pi} \\exp(-\\imath \\pi v/2) K_v(z \\exp(-\\imath\\pi/2))$$"
      ]
    },
    {
      "cell_type": "markdown",
      "metadata": {
        "colab_type": "text",
        "id": "QUWhrGlyIjea"
      },
      "source": [
        "Il existe souvent une fonction `Python` simple permettant le calcul de fonctions complexes similaires"
      ]
    },
    {
      "cell_type": "code",
      "metadata": {
        "colab_type": "code",
        "id": "_NCBGPhsIjeb",
        "colab": {}
      },
      "source": [
        "from scipy.special import hankel1"
      ],
      "execution_count": null,
      "outputs": []
    },
    {
      "cell_type": "markdown",
      "metadata": {
        "colab_type": "text",
        "id": "32oSwWKOIjee"
      },
      "source": [
        "Nous avons trouvé la fonction, allons maintenant voir sa syntaxe"
      ]
    },
    {
      "cell_type": "code",
      "metadata": {
        "colab_type": "code",
        "id": "TkCeU-TkIjee",
        "colab": {}
      },
      "source": [
        "?hankel1"
      ],
      "execution_count": null,
      "outputs": []
    },
    {
      "cell_type": "markdown",
      "metadata": {
        "colab_type": "text",
        "id": "D6nxKKLnIjeg"
      },
      "source": [
        "*Note* : On peut aussi entrer `help(hankel1)` mais qui nous renseignera assez peu sur la fonction."
      ]
    },
    {
      "cell_type": "markdown",
      "metadata": {
        "colab_type": "text",
        "id": "J3GtLesGIjeh"
      },
      "source": [
        "Imaginons que nous voulons calculer $H_{\\nu}^{(1)}(z)$ avec $\\nu = 1$ et pour $z \\in [-1,1]$ "
      ]
    },
    {
      "cell_type": "markdown",
      "metadata": {
        "colab_type": "text",
        "id": "q1TtehMrIjei"
      },
      "source": [
        "On commence par créer un vecteur discrétisé de $[-1,1]$ avec le module `numpy`. Principal module pour manipuler des tableaux de nombres, la bibliothèque `numpy` permet d'effectuer des calculs efficacement en Python, plus d'infos sur [le site du module numpy](http://www.numpy.org/)."
      ]
    },
    {
      "cell_type": "code",
      "metadata": {
        "colab_type": "code",
        "id": "KrrYYbIeIjei",
        "colab": {}
      },
      "source": [
        "import numpy as np"
      ],
      "execution_count": null,
      "outputs": []
    },
    {
      "cell_type": "markdown",
      "metadata": {
        "colab_type": "text",
        "id": "3GDZPWCUIjek"
      },
      "source": [
        "*Note* : En `python` on le découvrira au fur et à mesure tout est objet (y compris les modules). Quand on importe un module,on importe donc toutes les méthodes qu'il contient. Afin de ne pas confondre les méthodes d'un module avec un autre il est courant de donner un alias au module (on parle de `namespace`). "
      ]
    },
    {
      "cell_type": "code",
      "metadata": {
        "colab_type": "code",
        "id": "amdz992iIjek",
        "colab": {},
        "outputId": "c67da0e7-e4d7-4488-a197-0acad9f077a4"
      },
      "source": [
        "help(np.linspace)"
      ],
      "execution_count": null,
      "outputs": [
        {
          "output_type": "stream",
          "text": [
            "Help on function linspace in module numpy.core.function_base:\n",
            "\n",
            "linspace(start, stop, num=50, endpoint=True, retstep=False, dtype=None)\n",
            "    Return evenly spaced numbers over a specified interval.\n",
            "    \n",
            "    Returns `num` evenly spaced samples, calculated over the\n",
            "    interval [`start`, `stop`].\n",
            "    \n",
            "    The endpoint of the interval can optionally be excluded.\n",
            "    \n",
            "    Parameters\n",
            "    ----------\n",
            "    start : scalar\n",
            "        The starting value of the sequence.\n",
            "    stop : scalar\n",
            "        The end value of the sequence, unless `endpoint` is set to False.\n",
            "        In that case, the sequence consists of all but the last of ``num + 1``\n",
            "        evenly spaced samples, so that `stop` is excluded.  Note that the step\n",
            "        size changes when `endpoint` is False.\n",
            "    num : int, optional\n",
            "        Number of samples to generate. Default is 50. Must be non-negative.\n",
            "    endpoint : bool, optional\n",
            "        If True, `stop` is the last sample. Otherwise, it is not included.\n",
            "        Default is True.\n",
            "    retstep : bool, optional\n",
            "        If True, return (`samples`, `step`), where `step` is the spacing\n",
            "        between samples.\n",
            "    dtype : dtype, optional\n",
            "        The type of the output array.  If `dtype` is not given, infer the data\n",
            "        type from the other input arguments.\n",
            "    \n",
            "        .. versionadded:: 1.9.0\n",
            "    \n",
            "    Returns\n",
            "    -------\n",
            "    samples : ndarray\n",
            "        There are `num` equally spaced samples in the closed interval\n",
            "        ``[start, stop]`` or the half-open interval ``[start, stop)``\n",
            "        (depending on whether `endpoint` is True or False).\n",
            "    step : float, optional\n",
            "        Only returned if `retstep` is True\n",
            "    \n",
            "        Size of spacing between samples.\n",
            "    \n",
            "    \n",
            "    See Also\n",
            "    --------\n",
            "    arange : Similar to `linspace`, but uses a step size (instead of the\n",
            "             number of samples).\n",
            "    logspace : Samples uniformly distributed in log space.\n",
            "    \n",
            "    Examples\n",
            "    --------\n",
            "    >>> np.linspace(2.0, 3.0, num=5)\n",
            "    array([ 2.  ,  2.25,  2.5 ,  2.75,  3.  ])\n",
            "    >>> np.linspace(2.0, 3.0, num=5, endpoint=False)\n",
            "    array([ 2. ,  2.2,  2.4,  2.6,  2.8])\n",
            "    >>> np.linspace(2.0, 3.0, num=5, retstep=True)\n",
            "    (array([ 2.  ,  2.25,  2.5 ,  2.75,  3.  ]), 0.25)\n",
            "    \n",
            "    Graphical illustration:\n",
            "    \n",
            "    >>> import matplotlib.pyplot as plt\n",
            "    >>> N = 8\n",
            "    >>> y = np.zeros(N)\n",
            "    >>> x1 = np.linspace(0, 10, N, endpoint=True)\n",
            "    >>> x2 = np.linspace(0, 10, N, endpoint=False)\n",
            "    >>> plt.plot(x1, y, 'o')\n",
            "    [<matplotlib.lines.Line2D object at 0x...>]\n",
            "    >>> plt.plot(x2, y + 0.5, 'o')\n",
            "    [<matplotlib.lines.Line2D object at 0x...>]\n",
            "    >>> plt.ylim([-0.5, 1])\n",
            "    (-0.5, 1)\n",
            "    >>> plt.show()\n",
            "\n"
          ],
          "name": "stdout"
        }
      ]
    },
    {
      "cell_type": "code",
      "metadata": {
        "colab_type": "code",
        "id": "doMYemhZIjem",
        "colab": {}
      },
      "source": [
        "z = np.linspace(-1,1,50)"
      ],
      "execution_count": null,
      "outputs": []
    },
    {
      "cell_type": "code",
      "metadata": {
        "colab_type": "code",
        "id": "uwqG7p0xIjeo",
        "colab": {},
        "outputId": "f06d0528-323e-4b14-cdcf-2998dfd55d3c"
      },
      "source": [
        "hankel1(1,z)"
      ],
      "execution_count": null,
      "outputs": [
        {
          "output_type": "execute_result",
          "data": {
            "text/plain": [
              "array([0.44005059 +0.78121282j, 0.42651107 +0.81746486j,\n",
              "       0.41244592 +0.85541641j, 0.39787186 +0.89536659j,\n",
              "       0.38280632 +0.93767875j, 0.36726738 +0.98279692j,\n",
              "       0.35127381 +1.03126783j, 0.33484498 +1.08377026j,\n",
              "       0.31800088 +1.14115534j, 0.30076207 +1.20450237j,\n",
              "       0.28314965 +1.27519789j, 0.26518523 +1.35505j   ,\n",
              "       0.24689094 +1.44645783j, 0.22828933 +1.55266958j,\n",
              "       0.2094034  +1.67818853j, 0.19025652 +1.82943611j,\n",
              "       0.17087246 +2.015884j  , 0.15127527 +2.25209367j,\n",
              "       0.13148934 +2.5616416j , 0.1115393  +2.98533216j,\n",
              "       0.09145    +3.60037279j, 0.07124651 +4.57244881j,\n",
              "       0.05095403 +6.33285859j, 0.0305979 +10.46452352j,\n",
              "       0.01020355+31.22364997j, 0.01020355-31.22364997j,\n",
              "       0.0305979 -10.46452352j, 0.05095403 -6.33285859j,\n",
              "       0.07124651 -4.57244881j, 0.09145    -3.60037279j,\n",
              "       0.1115393  -2.98533216j, 0.13148934 -2.5616416j ,\n",
              "       0.15127527 -2.25209367j, 0.17087246 -2.015884j  ,\n",
              "       0.19025652 -1.82943611j, 0.2094034  -1.67818853j,\n",
              "       0.22828933 -1.55266958j, 0.24689094 -1.44645783j,\n",
              "       0.26518523 -1.35505j   , 0.28314965 -1.27519789j,\n",
              "       0.30076207 -1.20450237j, 0.31800088 -1.14115534j,\n",
              "       0.33484498 -1.08377026j, 0.35127381 -1.03126783j,\n",
              "       0.36726738 -0.98279692j, 0.38280632 -0.93767875j,\n",
              "       0.39787186 -0.89536659j, 0.41244592 -0.85541641j,\n",
              "       0.42651107 -0.81746486j, 0.44005059 -0.78121282j])"
            ]
          },
          "metadata": {
            "tags": []
          },
          "execution_count": 6
        }
      ]
    },
    {
      "cell_type": "markdown",
      "metadata": {
        "colab_type": "text",
        "id": "73LZ0f7AIjet"
      },
      "source": [
        "Comme on le voit, la fonction `hankel1` accepte des entrées vectorielles. De nombreuses fonctions des modules `numpy` ou `scipy` sont vectorisées ainsi. Le langage `Python` est donc parfaitement adapté à du calcul scientifique efficace, à l'instar du langage Matlab ou encore de Fortran90."
      ]
    },
    {
      "cell_type": "markdown",
      "metadata": {
        "colab_type": "text",
        "id": "20YjHXTVIjeu"
      },
      "source": [
        "On finit cette section par tracer la partie réelle de la fonction de Hankel"
      ]
    },
    {
      "cell_type": "code",
      "metadata": {
        "colab_type": "code",
        "id": "v68iz__GIjev",
        "colab": {},
        "outputId": "aa6c61db-9b9d-4cf9-fc92-c374ccc817e9"
      },
      "source": [
        "%pylab inline"
      ],
      "execution_count": null,
      "outputs": [
        {
          "output_type": "stream",
          "text": [
            "Populating the interactive namespace from numpy and matplotlib\n"
          ],
          "name": "stdout"
        }
      ]
    },
    {
      "cell_type": "markdown",
      "metadata": {
        "colab_type": "text",
        "id": "L0Mlz-JqIjew"
      },
      "source": [
        "*Note* : la commande précédente est propre au notebook Jupyter. Elle permet en une ligne d'importer `numpy` et `matplotlib` et d'intégrer des graphiques au notebook."
      ]
    },
    {
      "cell_type": "code",
      "metadata": {
        "colab_type": "code",
        "id": "k1zjGaF1Ijex",
        "colab": {},
        "outputId": "63805960-5ed3-4f9b-8346-283f8943a920"
      },
      "source": [
        "plt.plot(z, np.real(hankel1(1,z)),linewidth=4)"
      ],
      "execution_count": null,
      "outputs": [
        {
          "output_type": "execute_result",
          "data": {
            "text/plain": [
              "[<matplotlib.lines.Line2D at 0x874b630>]"
            ]
          },
          "metadata": {
            "tags": []
          },
          "execution_count": 8
        },
        {
          "output_type": "display_data",
          "data": {
            "image/png": "[encoded data removed]",
            "text/plain": [
              "<Figure size 432x288 with 1 Axes>"
            ]
          },
          "metadata": {
            "tags": [],
            "needs_background": "light"
          }
        }
      ]
    },
    {
      "cell_type": "markdown",
      "metadata": {
        "colab_type": "text",
        "id": "--tj5kkfIjez"
      },
      "source": [
        "**Exercice 1** : Tracer la partie imaginaire de $H_{2}^{(1)}$ pour $-2 \\leq z \\leq 2$"
      ]
    },
    {
      "cell_type": "code",
      "metadata": {
        "colab_type": "code",
        "id": "Y3bgLTqWIjez",
        "colab": {}
      },
      "source": [
        ""
      ],
      "execution_count": null,
      "outputs": []
    },
    {
      "cell_type": "markdown",
      "metadata": {
        "colab_type": "text",
        "id": "REZKh8z9Ije1"
      },
      "source": [
        "**Exercice 2** : Ecrire une fonction `python` qui prend en entrée $\\nu$ et renvoie le tracé de $|H_v^{(1)}(z)|$ pour $z \\in [-1,1]$\n",
        "\n",
        "*Note* : une fonction en `Python` a la syntaxe suivante\n",
        "```python\n",
        "def my_fonction(entree1, entree2,...):\n",
        "    # calcul\n",
        "    return sortie\n",
        "```    "
      ]
    },
    {
      "cell_type": "code",
      "metadata": {
        "colab_type": "code",
        "id": "C5hVIO5lIje1",
        "colab": {}
      },
      "source": [
        ""
      ],
      "execution_count": null,
      "outputs": []
    },
    {
      "cell_type": "code",
      "metadata": {
        "colab_type": "code",
        "id": "MG3h0DxNIje3",
        "colab": {}
      },
      "source": [
        ""
      ],
      "execution_count": null,
      "outputs": []
    },
    {
      "cell_type": "markdown",
      "metadata": {
        "colab_type": "text",
        "id": "9BqG8xB4Ije5"
      },
      "source": [
        "**Exercice 3** : Améliorations esthétiques de la fonction précédente, chercher dans la documentation en ligne (ou sur le Web) à\n",
        "- ajouter une légende\n",
        "- ajouter un titre\n",
        "- superposer $Re(H_v^{(1)})$ sur le graphique\n",
        "- ..."
      ]
    },
    {
      "cell_type": "markdown",
      "metadata": {
        "colab_type": "text",
        "id": "RdJntxNGIje5"
      },
      "source": [
        ""
      ]
    },
    {
      "cell_type": "code",
      "metadata": {
        "id": "49erVyxhs2YD",
        "colab_type": "code",
        "colab": {}
      },
      "source": [
        ""
      ],
      "execution_count": null,
      "outputs": []
    }
  ]
}